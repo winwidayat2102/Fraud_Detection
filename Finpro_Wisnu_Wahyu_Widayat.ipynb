{
  "nbformat": 4,
  "nbformat_minor": 0,
  "metadata": {
    "colab": {
      "provenance": []
    },
    "kernelspec": {
      "name": "python3",
      "display_name": "Python 3"
    },
    "language_info": {
      "name": "python"
    }
  },
  "cells": [
    {
      "cell_type": "markdown",
      "source": [
        "## Judul/Topik : Deteksi Transaksi Keuangan Perbankan Terindikasi Fraud atau Tidak\n"
      ],
      "metadata": {
        "id": "HI_GBqi9gfsN"
      }
    },
    {
      "cell_type": "markdown",
      "source": [
        "#### Overview :\n",
        "#### 1. Lebih memahami pola transaksi yang ada pada dataset \"Fraud Dataset Example\" dengan melakukan Explorasi Data Analisa (EDA)\n",
        "#### 2. Melakukan Data Preprocessing, agar data benar-benar dapatkan output yang optimal dari pemodelan\n",
        "#### 3. Membuat pemodelan dan memilih pemodelan yang terbaik untuk mendeteksi fraud dalam transaksi keuangan di perbankan"
      ],
      "metadata": {
        "id": "Iuqo5ySEgfhu"
      }
    },
    {
      "cell_type": "markdown",
      "source": [
        "#### Dataset Fraud Detection Example\n",
        "\n",
        "1. step: Satuan waktu dalam jam, yang mewakili ketika transaksi terjadi. Setiap unit step mewakili satu jam.\n",
        "\n",
        "2. type: Jenis transaksi, bisa berupa CASH-IN (menyetorkan uang), CASH-OUT (mengambil uang), DEBIT (transaksi debit), PAYMENT (pembayaran), dan TRANSFER (transfer antar akun).\n",
        "\n",
        "3. amount: Jumlah nominal dalam transaksi, diukur dalam mata uang lokal.\n",
        "\n",
        "4. nameOrig: Originator (pemilik) transaksi, merupakan identifier unik untuk transaksi yang mengidentifikasi siapa yang melakukan transaksi.\n",
        "\n",
        "5. oldbalanceOrg: Saldo awal pemilik atau pengirim transaksi sebelum transaksi terjadi.\n",
        "\n",
        "6. newbalanceOrig: Saldo akhir pemilik atau pengirim transaksi setelah transaksi terjadi.\n",
        "\n",
        "7. nameDest: Penerima transaksi, merupakan identifier unik untuk transaksi yang mengidentifikasi siapa yang menerima transaksi.\n",
        "\n",
        "8. oldbalanceDest: Saldo awal penerima transaksi sebelum transaksi terjadi.\n",
        "\n",
        "9. newbalanceDest: Saldo akhir penerima transaksi setelah transaksi terjadi.\n",
        "\n",
        "10. isFraud: Variabel target yang menunjukkan apakah suatu transaksi terindikasi fraud (1) atau bukan (0).\n",
        "\n",
        "11. isFlaggedFraud: Menandakan apakah terdapat upaya ilegal untuk mentransfer jumlah uang besar dalam satu transaksi. Jika nilai 1, itu menunjukkan upaya transfer ilegal; jika 0, tidak ada upaya transfer ilegal."
      ],
      "metadata": {
        "id": "gHxgS1wc16Np"
      }
    },
    {
      "cell_type": "markdown",
      "source": [
        "## Import Libraries"
      ],
      "metadata": {
        "id": "MiJ4Ip-ysqVw"
      }
    },
    {
      "cell_type": "code",
      "execution_count": null,
      "metadata": {
        "id": "67odxJNqffw5"
      },
      "outputs": [],
      "source": [
        "import pandas as pd\n",
        "import numpy as np\n",
        "import matplotlib.pyplot as plt\n",
        "import seaborn as sns"
      ]
    },
    {
      "cell_type": "markdown",
      "source": [
        "## Load Dataset"
      ],
      "metadata": {
        "id": "lSkTss5Kt1uA"
      }
    },
    {
      "cell_type": "code",
      "source": [
        "from google.colab import drive\n",
        "drive.mount('/content/drive')"
      ],
      "metadata": {
        "colab": {
          "base_uri": "https://localhost:8080/"
        },
        "id": "stIq1akAt7S0",
        "outputId": "239377c0-08f4-45af-877b-f14d4b840367"
      },
      "execution_count": null,
      "outputs": [
        {
          "output_type": "stream",
          "name": "stdout",
          "text": [
            "Drive already mounted at /content/drive; to attempt to forcibly remount, call drive.mount(\"/content/drive\", force_remount=True).\n"
          ]
        }
      ]
    },
    {
      "cell_type": "code",
      "source": [
        "df = pd.read_csv('/content/drive/MyDrive/Dibimbing_id/Materi/Colab Notebooks/Final Project/latihan/Fraud/fraud_dataset_example.csv')\n",
        "df.head()"
      ],
      "metadata": {
        "colab": {
          "base_uri": "https://localhost:8080/",
          "height": 206
        },
        "id": "RfalqM5UuB6-",
        "outputId": "88cb8255-21fa-405a-c245-20cd701d50a6"
      },
      "execution_count": null,
      "outputs": [
        {
          "output_type": "execute_result",
          "data": {
            "text/plain": [
              "   step      type    amount     nameOrig  oldbalanceOrg  newbalanceOrig  \\\n",
              "0     1   PAYMENT   9839.64  C1231006815       170136.0       160296.36   \n",
              "1     1   PAYMENT   1864.28  C1666544295        21249.0        19384.72   \n",
              "2     1  TRANSFER    181.00  C1305486145          181.0            0.00   \n",
              "3     1  CASH_OUT    181.00   C840083671          181.0            0.00   \n",
              "4     1   PAYMENT  11668.14  C2048537720        41554.0        29885.86   \n",
              "\n",
              "      nameDest  oldbalanceDest  newbalanceDest  isFraud  isFlaggedFraud  \n",
              "0  M1979787155             0.0             0.0        0               0  \n",
              "1  M2044282225             0.0             0.0        0               0  \n",
              "2   C553264065             0.0             0.0        1               0  \n",
              "3    C38997010         21182.0             0.0        1               0  \n",
              "4  M1230701703             0.0             0.0        0               0  "
            ],
            "text/html": [
              "\n",
              "  <div id=\"df-2fc2c922-0013-4748-ae87-4f61de4be568\" class=\"colab-df-container\">\n",
              "    <div>\n",
              "<style scoped>\n",
              "    .dataframe tbody tr th:only-of-type {\n",
              "        vertical-align: middle;\n",
              "    }\n",
              "\n",
              "    .dataframe tbody tr th {\n",
              "        vertical-align: top;\n",
              "    }\n",
              "\n",
              "    .dataframe thead th {\n",
              "        text-align: right;\n",
              "    }\n",
              "</style>\n",
              "<table border=\"1\" class=\"dataframe\">\n",
              "  <thead>\n",
              "    <tr style=\"text-align: right;\">\n",
              "      <th></th>\n",
              "      <th>step</th>\n",
              "      <th>type</th>\n",
              "      <th>amount</th>\n",
              "      <th>nameOrig</th>\n",
              "      <th>oldbalanceOrg</th>\n",
              "      <th>newbalanceOrig</th>\n",
              "      <th>nameDest</th>\n",
              "      <th>oldbalanceDest</th>\n",
              "      <th>newbalanceDest</th>\n",
              "      <th>isFraud</th>\n",
              "      <th>isFlaggedFraud</th>\n",
              "    </tr>\n",
              "  </thead>\n",
              "  <tbody>\n",
              "    <tr>\n",
              "      <th>0</th>\n",
              "      <td>1</td>\n",
              "      <td>PAYMENT</td>\n",
              "      <td>9839.64</td>\n",
              "      <td>C1231006815</td>\n",
              "      <td>170136.0</td>\n",
              "      <td>160296.36</td>\n",
              "      <td>M1979787155</td>\n",
              "      <td>0.0</td>\n",
              "      <td>0.0</td>\n",
              "      <td>0</td>\n",
              "      <td>0</td>\n",
              "    </tr>\n",
              "    <tr>\n",
              "      <th>1</th>\n",
              "      <td>1</td>\n",
              "      <td>PAYMENT</td>\n",
              "      <td>1864.28</td>\n",
              "      <td>C1666544295</td>\n",
              "      <td>21249.0</td>\n",
              "      <td>19384.72</td>\n",
              "      <td>M2044282225</td>\n",
              "      <td>0.0</td>\n",
              "      <td>0.0</td>\n",
              "      <td>0</td>\n",
              "      <td>0</td>\n",
              "    </tr>\n",
              "    <tr>\n",
              "      <th>2</th>\n",
              "      <td>1</td>\n",
              "      <td>TRANSFER</td>\n",
              "      <td>181.00</td>\n",
              "      <td>C1305486145</td>\n",
              "      <td>181.0</td>\n",
              "      <td>0.00</td>\n",
              "      <td>C553264065</td>\n",
              "      <td>0.0</td>\n",
              "      <td>0.0</td>\n",
              "      <td>1</td>\n",
              "      <td>0</td>\n",
              "    </tr>\n",
              "    <tr>\n",
              "      <th>3</th>\n",
              "      <td>1</td>\n",
              "      <td>CASH_OUT</td>\n",
              "      <td>181.00</td>\n",
              "      <td>C840083671</td>\n",
              "      <td>181.0</td>\n",
              "      <td>0.00</td>\n",
              "      <td>C38997010</td>\n",
              "      <td>21182.0</td>\n",
              "      <td>0.0</td>\n",
              "      <td>1</td>\n",
              "      <td>0</td>\n",
              "    </tr>\n",
              "    <tr>\n",
              "      <th>4</th>\n",
              "      <td>1</td>\n",
              "      <td>PAYMENT</td>\n",
              "      <td>11668.14</td>\n",
              "      <td>C2048537720</td>\n",
              "      <td>41554.0</td>\n",
              "      <td>29885.86</td>\n",
              "      <td>M1230701703</td>\n",
              "      <td>0.0</td>\n",
              "      <td>0.0</td>\n",
              "      <td>0</td>\n",
              "      <td>0</td>\n",
              "    </tr>\n",
              "  </tbody>\n",
              "</table>\n",
              "</div>\n",
              "    <div class=\"colab-df-buttons\">\n",
              "\n",
              "  <div class=\"colab-df-container\">\n",
              "    <button class=\"colab-df-convert\" onclick=\"convertToInteractive('df-2fc2c922-0013-4748-ae87-4f61de4be568')\"\n",
              "            title=\"Convert this dataframe to an interactive table.\"\n",
              "            style=\"display:none;\">\n",
              "\n",
              "  <svg xmlns=\"http://www.w3.org/2000/svg\" height=\"24px\" viewBox=\"0 -960 960 960\">\n",
              "    <path d=\"M120-120v-720h720v720H120Zm60-500h600v-160H180v160Zm220 220h160v-160H400v160Zm0 220h160v-160H400v160ZM180-400h160v-160H180v160Zm440 0h160v-160H620v160ZM180-180h160v-160H180v160Zm440 0h160v-160H620v160Z\"/>\n",
              "  </svg>\n",
              "    </button>\n",
              "\n",
              "  <style>\n",
              "    .colab-df-container {\n",
              "      display:flex;\n",
              "      gap: 12px;\n",
              "    }\n",
              "\n",
              "    .colab-df-convert {\n",
              "      background-color: #E8F0FE;\n",
              "      border: none;\n",
              "      border-radius: 50%;\n",
              "      cursor: pointer;\n",
              "      display: none;\n",
              "      fill: #1967D2;\n",
              "      height: 32px;\n",
              "      padding: 0 0 0 0;\n",
              "      width: 32px;\n",
              "    }\n",
              "\n",
              "    .colab-df-convert:hover {\n",
              "      background-color: #E2EBFA;\n",
              "      box-shadow: 0px 1px 2px rgba(60, 64, 67, 0.3), 0px 1px 3px 1px rgba(60, 64, 67, 0.15);\n",
              "      fill: #174EA6;\n",
              "    }\n",
              "\n",
              "    .colab-df-buttons div {\n",
              "      margin-bottom: 4px;\n",
              "    }\n",
              "\n",
              "    [theme=dark] .colab-df-convert {\n",
              "      background-color: #3B4455;\n",
              "      fill: #D2E3FC;\n",
              "    }\n",
              "\n",
              "    [theme=dark] .colab-df-convert:hover {\n",
              "      background-color: #434B5C;\n",
              "      box-shadow: 0px 1px 3px 1px rgba(0, 0, 0, 0.15);\n",
              "      filter: drop-shadow(0px 1px 2px rgba(0, 0, 0, 0.3));\n",
              "      fill: #FFFFFF;\n",
              "    }\n",
              "  </style>\n",
              "\n",
              "    <script>\n",
              "      const buttonEl =\n",
              "        document.querySelector('#df-2fc2c922-0013-4748-ae87-4f61de4be568 button.colab-df-convert');\n",
              "      buttonEl.style.display =\n",
              "        google.colab.kernel.accessAllowed ? 'block' : 'none';\n",
              "\n",
              "      async function convertToInteractive(key) {\n",
              "        const element = document.querySelector('#df-2fc2c922-0013-4748-ae87-4f61de4be568');\n",
              "        const dataTable =\n",
              "          await google.colab.kernel.invokeFunction('convertToInteractive',\n",
              "                                                    [key], {});\n",
              "        if (!dataTable) return;\n",
              "\n",
              "        const docLinkHtml = 'Like what you see? Visit the ' +\n",
              "          '<a target=\"_blank\" href=https://colab.research.google.com/notebooks/data_table.ipynb>data table notebook</a>'\n",
              "          + ' to learn more about interactive tables.';\n",
              "        element.innerHTML = '';\n",
              "        dataTable['output_type'] = 'display_data';\n",
              "        await google.colab.output.renderOutput(dataTable, element);\n",
              "        const docLink = document.createElement('div');\n",
              "        docLink.innerHTML = docLinkHtml;\n",
              "        element.appendChild(docLink);\n",
              "      }\n",
              "    </script>\n",
              "  </div>\n",
              "\n",
              "\n",
              "<div id=\"df-60ff7314-e703-4dfd-9efd-1db2813d643e\">\n",
              "  <button class=\"colab-df-quickchart\" onclick=\"quickchart('df-60ff7314-e703-4dfd-9efd-1db2813d643e')\"\n",
              "            title=\"Suggest charts\"\n",
              "            style=\"display:none;\">\n",
              "\n",
              "<svg xmlns=\"http://www.w3.org/2000/svg\" height=\"24px\"viewBox=\"0 0 24 24\"\n",
              "     width=\"24px\">\n",
              "    <g>\n",
              "        <path d=\"M19 3H5c-1.1 0-2 .9-2 2v14c0 1.1.9 2 2 2h14c1.1 0 2-.9 2-2V5c0-1.1-.9-2-2-2zM9 17H7v-7h2v7zm4 0h-2V7h2v10zm4 0h-2v-4h2v4z\"/>\n",
              "    </g>\n",
              "</svg>\n",
              "  </button>\n",
              "\n",
              "<style>\n",
              "  .colab-df-quickchart {\n",
              "      --bg-color: #E8F0FE;\n",
              "      --fill-color: #1967D2;\n",
              "      --hover-bg-color: #E2EBFA;\n",
              "      --hover-fill-color: #174EA6;\n",
              "      --disabled-fill-color: #AAA;\n",
              "      --disabled-bg-color: #DDD;\n",
              "  }\n",
              "\n",
              "  [theme=dark] .colab-df-quickchart {\n",
              "      --bg-color: #3B4455;\n",
              "      --fill-color: #D2E3FC;\n",
              "      --hover-bg-color: #434B5C;\n",
              "      --hover-fill-color: #FFFFFF;\n",
              "      --disabled-bg-color: #3B4455;\n",
              "      --disabled-fill-color: #666;\n",
              "  }\n",
              "\n",
              "  .colab-df-quickchart {\n",
              "    background-color: var(--bg-color);\n",
              "    border: none;\n",
              "    border-radius: 50%;\n",
              "    cursor: pointer;\n",
              "    display: none;\n",
              "    fill: var(--fill-color);\n",
              "    height: 32px;\n",
              "    padding: 0;\n",
              "    width: 32px;\n",
              "  }\n",
              "\n",
              "  .colab-df-quickchart:hover {\n",
              "    background-color: var(--hover-bg-color);\n",
              "    box-shadow: 0 1px 2px rgba(60, 64, 67, 0.3), 0 1px 3px 1px rgba(60, 64, 67, 0.15);\n",
              "    fill: var(--button-hover-fill-color);\n",
              "  }\n",
              "\n",
              "  .colab-df-quickchart-complete:disabled,\n",
              "  .colab-df-quickchart-complete:disabled:hover {\n",
              "    background-color: var(--disabled-bg-color);\n",
              "    fill: var(--disabled-fill-color);\n",
              "    box-shadow: none;\n",
              "  }\n",
              "\n",
              "  .colab-df-spinner {\n",
              "    border: 2px solid var(--fill-color);\n",
              "    border-color: transparent;\n",
              "    border-bottom-color: var(--fill-color);\n",
              "    animation:\n",
              "      spin 1s steps(1) infinite;\n",
              "  }\n",
              "\n",
              "  @keyframes spin {\n",
              "    0% {\n",
              "      border-color: transparent;\n",
              "      border-bottom-color: var(--fill-color);\n",
              "      border-left-color: var(--fill-color);\n",
              "    }\n",
              "    20% {\n",
              "      border-color: transparent;\n",
              "      border-left-color: var(--fill-color);\n",
              "      border-top-color: var(--fill-color);\n",
              "    }\n",
              "    30% {\n",
              "      border-color: transparent;\n",
              "      border-left-color: var(--fill-color);\n",
              "      border-top-color: var(--fill-color);\n",
              "      border-right-color: var(--fill-color);\n",
              "    }\n",
              "    40% {\n",
              "      border-color: transparent;\n",
              "      border-right-color: var(--fill-color);\n",
              "      border-top-color: var(--fill-color);\n",
              "    }\n",
              "    60% {\n",
              "      border-color: transparent;\n",
              "      border-right-color: var(--fill-color);\n",
              "    }\n",
              "    80% {\n",
              "      border-color: transparent;\n",
              "      border-right-color: var(--fill-color);\n",
              "      border-bottom-color: var(--fill-color);\n",
              "    }\n",
              "    90% {\n",
              "      border-color: transparent;\n",
              "      border-bottom-color: var(--fill-color);\n",
              "    }\n",
              "  }\n",
              "</style>\n",
              "\n",
              "  <script>\n",
              "    async function quickchart(key) {\n",
              "      const quickchartButtonEl =\n",
              "        document.querySelector('#' + key + ' button');\n",
              "      quickchartButtonEl.disabled = true;  // To prevent multiple clicks.\n",
              "      quickchartButtonEl.classList.add('colab-df-spinner');\n",
              "      try {\n",
              "        const charts = await google.colab.kernel.invokeFunction(\n",
              "            'suggestCharts', [key], {});\n",
              "      } catch (error) {\n",
              "        console.error('Error during call to suggestCharts:', error);\n",
              "      }\n",
              "      quickchartButtonEl.classList.remove('colab-df-spinner');\n",
              "      quickchartButtonEl.classList.add('colab-df-quickchart-complete');\n",
              "    }\n",
              "    (() => {\n",
              "      let quickchartButtonEl =\n",
              "        document.querySelector('#df-60ff7314-e703-4dfd-9efd-1db2813d643e button');\n",
              "      quickchartButtonEl.style.display =\n",
              "        google.colab.kernel.accessAllowed ? 'block' : 'none';\n",
              "    })();\n",
              "  </script>\n",
              "</div>\n",
              "    </div>\n",
              "  </div>\n"
            ],
            "application/vnd.google.colaboratory.intrinsic+json": {
              "type": "dataframe",
              "variable_name": "df"
            }
          },
          "metadata": {},
          "execution_count": 53
        }
      ]
    },
    {
      "cell_type": "markdown",
      "source": [
        "## Exploratory Data Analysis (EDA)"
      ],
      "metadata": {
        "id": "GcF5aWGyurL8"
      }
    },
    {
      "cell_type": "code",
      "source": [
        "df.info()"
      ],
      "metadata": {
        "colab": {
          "base_uri": "https://localhost:8080/"
        },
        "id": "s4ApZBTUu7YI",
        "outputId": "0c568ea0-0746-4b93-c0ca-303d32c842f4"
      },
      "execution_count": null,
      "outputs": [
        {
          "output_type": "stream",
          "name": "stdout",
          "text": [
            "<class 'pandas.core.frame.DataFrame'>\n",
            "RangeIndex: 101613 entries, 0 to 101612\n",
            "Data columns (total 11 columns):\n",
            " #   Column          Non-Null Count   Dtype  \n",
            "---  ------          --------------   -----  \n",
            " 0   step            101613 non-null  int64  \n",
            " 1   type            101613 non-null  object \n",
            " 2   amount          101613 non-null  float64\n",
            " 3   nameOrig        101613 non-null  object \n",
            " 4   oldbalanceOrg   101613 non-null  float64\n",
            " 5   newbalanceOrig  101613 non-null  float64\n",
            " 6   nameDest        101613 non-null  object \n",
            " 7   oldbalanceDest  101613 non-null  float64\n",
            " 8   newbalanceDest  101613 non-null  float64\n",
            " 9   isFraud         101613 non-null  int64  \n",
            " 10  isFlaggedFraud  101613 non-null  int64  \n",
            "dtypes: float64(5), int64(3), object(3)\n",
            "memory usage: 8.5+ MB\n"
          ]
        }
      ]
    },
    {
      "cell_type": "markdown",
      "source": [
        "#### Dataset terdiri dari 11 kolom dan 101613 baris"
      ],
      "metadata": {
        "id": "gzLy-jJ4GJlH"
      }
    },
    {
      "cell_type": "code",
      "source": [
        "df.describe()"
      ],
      "metadata": {
        "colab": {
          "base_uri": "https://localhost:8080/",
          "height": 300
        },
        "id": "b3rHxWjwwTUo",
        "outputId": "9080d6fb-64ed-43d2-cb67-70fc16a0cab8"
      },
      "execution_count": null,
      "outputs": [
        {
          "output_type": "execute_result",
          "data": {
            "text/plain": [
              "                step        amount  oldbalanceOrg  newbalanceOrig  \\\n",
              "count  101613.000000  1.016130e+05   1.016130e+05    1.016130e+05   \n",
              "mean        8.523457  1.740901e+05   9.071753e+05    9.234992e+05   \n",
              "std         1.820681  3.450199e+05   2.829575e+06    2.867319e+06   \n",
              "min         1.000000  3.200000e-01   0.000000e+00    0.000000e+00   \n",
              "25%         8.000000  1.001659e+04   0.000000e+00    0.000000e+00   \n",
              "50%         9.000000  5.338541e+04   2.019047e+04    0.000000e+00   \n",
              "75%        10.000000  2.124984e+05   1.947150e+05    2.192178e+05   \n",
              "max        10.000000  1.000000e+07   3.893942e+07    3.894623e+07   \n",
              "\n",
              "       oldbalanceDest  newbalanceDest        isFraud  isFlaggedFraud  \n",
              "count    1.016130e+05    1.016130e+05  101613.000000        101613.0  \n",
              "mean     8.810428e+05    1.183998e+06       0.001142             0.0  \n",
              "std      2.399949e+06    2.797761e+06       0.033768             0.0  \n",
              "min      0.000000e+00    0.000000e+00       0.000000             0.0  \n",
              "25%      0.000000e+00    0.000000e+00       0.000000             0.0  \n",
              "50%      2.105800e+04    5.178343e+04       0.000000             0.0  \n",
              "75%      5.919217e+05    1.063122e+06       0.000000             0.0  \n",
              "max      3.400874e+07    3.894623e+07       1.000000             0.0  "
            ],
            "text/html": [
              "\n",
              "  <div id=\"df-79a50c9c-c21d-4879-bbc1-588f05db0cc1\" class=\"colab-df-container\">\n",
              "    <div>\n",
              "<style scoped>\n",
              "    .dataframe tbody tr th:only-of-type {\n",
              "        vertical-align: middle;\n",
              "    }\n",
              "\n",
              "    .dataframe tbody tr th {\n",
              "        vertical-align: top;\n",
              "    }\n",
              "\n",
              "    .dataframe thead th {\n",
              "        text-align: right;\n",
              "    }\n",
              "</style>\n",
              "<table border=\"1\" class=\"dataframe\">\n",
              "  <thead>\n",
              "    <tr style=\"text-align: right;\">\n",
              "      <th></th>\n",
              "      <th>step</th>\n",
              "      <th>amount</th>\n",
              "      <th>oldbalanceOrg</th>\n",
              "      <th>newbalanceOrig</th>\n",
              "      <th>oldbalanceDest</th>\n",
              "      <th>newbalanceDest</th>\n",
              "      <th>isFraud</th>\n",
              "      <th>isFlaggedFraud</th>\n",
              "    </tr>\n",
              "  </thead>\n",
              "  <tbody>\n",
              "    <tr>\n",
              "      <th>count</th>\n",
              "      <td>101613.000000</td>\n",
              "      <td>1.016130e+05</td>\n",
              "      <td>1.016130e+05</td>\n",
              "      <td>1.016130e+05</td>\n",
              "      <td>1.016130e+05</td>\n",
              "      <td>1.016130e+05</td>\n",
              "      <td>101613.000000</td>\n",
              "      <td>101613.0</td>\n",
              "    </tr>\n",
              "    <tr>\n",
              "      <th>mean</th>\n",
              "      <td>8.523457</td>\n",
              "      <td>1.740901e+05</td>\n",
              "      <td>9.071753e+05</td>\n",
              "      <td>9.234992e+05</td>\n",
              "      <td>8.810428e+05</td>\n",
              "      <td>1.183998e+06</td>\n",
              "      <td>0.001142</td>\n",
              "      <td>0.0</td>\n",
              "    </tr>\n",
              "    <tr>\n",
              "      <th>std</th>\n",
              "      <td>1.820681</td>\n",
              "      <td>3.450199e+05</td>\n",
              "      <td>2.829575e+06</td>\n",
              "      <td>2.867319e+06</td>\n",
              "      <td>2.399949e+06</td>\n",
              "      <td>2.797761e+06</td>\n",
              "      <td>0.033768</td>\n",
              "      <td>0.0</td>\n",
              "    </tr>\n",
              "    <tr>\n",
              "      <th>min</th>\n",
              "      <td>1.000000</td>\n",
              "      <td>3.200000e-01</td>\n",
              "      <td>0.000000e+00</td>\n",
              "      <td>0.000000e+00</td>\n",
              "      <td>0.000000e+00</td>\n",
              "      <td>0.000000e+00</td>\n",
              "      <td>0.000000</td>\n",
              "      <td>0.0</td>\n",
              "    </tr>\n",
              "    <tr>\n",
              "      <th>25%</th>\n",
              "      <td>8.000000</td>\n",
              "      <td>1.001659e+04</td>\n",
              "      <td>0.000000e+00</td>\n",
              "      <td>0.000000e+00</td>\n",
              "      <td>0.000000e+00</td>\n",
              "      <td>0.000000e+00</td>\n",
              "      <td>0.000000</td>\n",
              "      <td>0.0</td>\n",
              "    </tr>\n",
              "    <tr>\n",
              "      <th>50%</th>\n",
              "      <td>9.000000</td>\n",
              "      <td>5.338541e+04</td>\n",
              "      <td>2.019047e+04</td>\n",
              "      <td>0.000000e+00</td>\n",
              "      <td>2.105800e+04</td>\n",
              "      <td>5.178343e+04</td>\n",
              "      <td>0.000000</td>\n",
              "      <td>0.0</td>\n",
              "    </tr>\n",
              "    <tr>\n",
              "      <th>75%</th>\n",
              "      <td>10.000000</td>\n",
              "      <td>2.124984e+05</td>\n",
              "      <td>1.947150e+05</td>\n",
              "      <td>2.192178e+05</td>\n",
              "      <td>5.919217e+05</td>\n",
              "      <td>1.063122e+06</td>\n",
              "      <td>0.000000</td>\n",
              "      <td>0.0</td>\n",
              "    </tr>\n",
              "    <tr>\n",
              "      <th>max</th>\n",
              "      <td>10.000000</td>\n",
              "      <td>1.000000e+07</td>\n",
              "      <td>3.893942e+07</td>\n",
              "      <td>3.894623e+07</td>\n",
              "      <td>3.400874e+07</td>\n",
              "      <td>3.894623e+07</td>\n",
              "      <td>1.000000</td>\n",
              "      <td>0.0</td>\n",
              "    </tr>\n",
              "  </tbody>\n",
              "</table>\n",
              "</div>\n",
              "    <div class=\"colab-df-buttons\">\n",
              "\n",
              "  <div class=\"colab-df-container\">\n",
              "    <button class=\"colab-df-convert\" onclick=\"convertToInteractive('df-79a50c9c-c21d-4879-bbc1-588f05db0cc1')\"\n",
              "            title=\"Convert this dataframe to an interactive table.\"\n",
              "            style=\"display:none;\">\n",
              "\n",
              "  <svg xmlns=\"http://www.w3.org/2000/svg\" height=\"24px\" viewBox=\"0 -960 960 960\">\n",
              "    <path d=\"M120-120v-720h720v720H120Zm60-500h600v-160H180v160Zm220 220h160v-160H400v160Zm0 220h160v-160H400v160ZM180-400h160v-160H180v160Zm440 0h160v-160H620v160ZM180-180h160v-160H180v160Zm440 0h160v-160H620v160Z\"/>\n",
              "  </svg>\n",
              "    </button>\n",
              "\n",
              "  <style>\n",
              "    .colab-df-container {\n",
              "      display:flex;\n",
              "      gap: 12px;\n",
              "    }\n",
              "\n",
              "    .colab-df-convert {\n",
              "      background-color: #E8F0FE;\n",
              "      border: none;\n",
              "      border-radius: 50%;\n",
              "      cursor: pointer;\n",
              "      display: none;\n",
              "      fill: #1967D2;\n",
              "      height: 32px;\n",
              "      padding: 0 0 0 0;\n",
              "      width: 32px;\n",
              "    }\n",
              "\n",
              "    .colab-df-convert:hover {\n",
              "      background-color: #E2EBFA;\n",
              "      box-shadow: 0px 1px 2px rgba(60, 64, 67, 0.3), 0px 1px 3px 1px rgba(60, 64, 67, 0.15);\n",
              "      fill: #174EA6;\n",
              "    }\n",
              "\n",
              "    .colab-df-buttons div {\n",
              "      margin-bottom: 4px;\n",
              "    }\n",
              "\n",
              "    [theme=dark] .colab-df-convert {\n",
              "      background-color: #3B4455;\n",
              "      fill: #D2E3FC;\n",
              "    }\n",
              "\n",
              "    [theme=dark] .colab-df-convert:hover {\n",
              "      background-color: #434B5C;\n",
              "      box-shadow: 0px 1px 3px 1px rgba(0, 0, 0, 0.15);\n",
              "      filter: drop-shadow(0px 1px 2px rgba(0, 0, 0, 0.3));\n",
              "      fill: #FFFFFF;\n",
              "    }\n",
              "  </style>\n",
              "\n",
              "    <script>\n",
              "      const buttonEl =\n",
              "        document.querySelector('#df-79a50c9c-c21d-4879-bbc1-588f05db0cc1 button.colab-df-convert');\n",
              "      buttonEl.style.display =\n",
              "        google.colab.kernel.accessAllowed ? 'block' : 'none';\n",
              "\n",
              "      async function convertToInteractive(key) {\n",
              "        const element = document.querySelector('#df-79a50c9c-c21d-4879-bbc1-588f05db0cc1');\n",
              "        const dataTable =\n",
              "          await google.colab.kernel.invokeFunction('convertToInteractive',\n",
              "                                                    [key], {});\n",
              "        if (!dataTable) return;\n",
              "\n",
              "        const docLinkHtml = 'Like what you see? Visit the ' +\n",
              "          '<a target=\"_blank\" href=https://colab.research.google.com/notebooks/data_table.ipynb>data table notebook</a>'\n",
              "          + ' to learn more about interactive tables.';\n",
              "        element.innerHTML = '';\n",
              "        dataTable['output_type'] = 'display_data';\n",
              "        await google.colab.output.renderOutput(dataTable, element);\n",
              "        const docLink = document.createElement('div');\n",
              "        docLink.innerHTML = docLinkHtml;\n",
              "        element.appendChild(docLink);\n",
              "      }\n",
              "    </script>\n",
              "  </div>\n",
              "\n",
              "\n",
              "<div id=\"df-c66eccb8-dd88-475d-a4c4-dbf5b785806d\">\n",
              "  <button class=\"colab-df-quickchart\" onclick=\"quickchart('df-c66eccb8-dd88-475d-a4c4-dbf5b785806d')\"\n",
              "            title=\"Suggest charts\"\n",
              "            style=\"display:none;\">\n",
              "\n",
              "<svg xmlns=\"http://www.w3.org/2000/svg\" height=\"24px\"viewBox=\"0 0 24 24\"\n",
              "     width=\"24px\">\n",
              "    <g>\n",
              "        <path d=\"M19 3H5c-1.1 0-2 .9-2 2v14c0 1.1.9 2 2 2h14c1.1 0 2-.9 2-2V5c0-1.1-.9-2-2-2zM9 17H7v-7h2v7zm4 0h-2V7h2v10zm4 0h-2v-4h2v4z\"/>\n",
              "    </g>\n",
              "</svg>\n",
              "  </button>\n",
              "\n",
              "<style>\n",
              "  .colab-df-quickchart {\n",
              "      --bg-color: #E8F0FE;\n",
              "      --fill-color: #1967D2;\n",
              "      --hover-bg-color: #E2EBFA;\n",
              "      --hover-fill-color: #174EA6;\n",
              "      --disabled-fill-color: #AAA;\n",
              "      --disabled-bg-color: #DDD;\n",
              "  }\n",
              "\n",
              "  [theme=dark] .colab-df-quickchart {\n",
              "      --bg-color: #3B4455;\n",
              "      --fill-color: #D2E3FC;\n",
              "      --hover-bg-color: #434B5C;\n",
              "      --hover-fill-color: #FFFFFF;\n",
              "      --disabled-bg-color: #3B4455;\n",
              "      --disabled-fill-color: #666;\n",
              "  }\n",
              "\n",
              "  .colab-df-quickchart {\n",
              "    background-color: var(--bg-color);\n",
              "    border: none;\n",
              "    border-radius: 50%;\n",
              "    cursor: pointer;\n",
              "    display: none;\n",
              "    fill: var(--fill-color);\n",
              "    height: 32px;\n",
              "    padding: 0;\n",
              "    width: 32px;\n",
              "  }\n",
              "\n",
              "  .colab-df-quickchart:hover {\n",
              "    background-color: var(--hover-bg-color);\n",
              "    box-shadow: 0 1px 2px rgba(60, 64, 67, 0.3), 0 1px 3px 1px rgba(60, 64, 67, 0.15);\n",
              "    fill: var(--button-hover-fill-color);\n",
              "  }\n",
              "\n",
              "  .colab-df-quickchart-complete:disabled,\n",
              "  .colab-df-quickchart-complete:disabled:hover {\n",
              "    background-color: var(--disabled-bg-color);\n",
              "    fill: var(--disabled-fill-color);\n",
              "    box-shadow: none;\n",
              "  }\n",
              "\n",
              "  .colab-df-spinner {\n",
              "    border: 2px solid var(--fill-color);\n",
              "    border-color: transparent;\n",
              "    border-bottom-color: var(--fill-color);\n",
              "    animation:\n",
              "      spin 1s steps(1) infinite;\n",
              "  }\n",
              "\n",
              "  @keyframes spin {\n",
              "    0% {\n",
              "      border-color: transparent;\n",
              "      border-bottom-color: var(--fill-color);\n",
              "      border-left-color: var(--fill-color);\n",
              "    }\n",
              "    20% {\n",
              "      border-color: transparent;\n",
              "      border-left-color: var(--fill-color);\n",
              "      border-top-color: var(--fill-color);\n",
              "    }\n",
              "    30% {\n",
              "      border-color: transparent;\n",
              "      border-left-color: var(--fill-color);\n",
              "      border-top-color: var(--fill-color);\n",
              "      border-right-color: var(--fill-color);\n",
              "    }\n",
              "    40% {\n",
              "      border-color: transparent;\n",
              "      border-right-color: var(--fill-color);\n",
              "      border-top-color: var(--fill-color);\n",
              "    }\n",
              "    60% {\n",
              "      border-color: transparent;\n",
              "      border-right-color: var(--fill-color);\n",
              "    }\n",
              "    80% {\n",
              "      border-color: transparent;\n",
              "      border-right-color: var(--fill-color);\n",
              "      border-bottom-color: var(--fill-color);\n",
              "    }\n",
              "    90% {\n",
              "      border-color: transparent;\n",
              "      border-bottom-color: var(--fill-color);\n",
              "    }\n",
              "  }\n",
              "</style>\n",
              "\n",
              "  <script>\n",
              "    async function quickchart(key) {\n",
              "      const quickchartButtonEl =\n",
              "        document.querySelector('#' + key + ' button');\n",
              "      quickchartButtonEl.disabled = true;  // To prevent multiple clicks.\n",
              "      quickchartButtonEl.classList.add('colab-df-spinner');\n",
              "      try {\n",
              "        const charts = await google.colab.kernel.invokeFunction(\n",
              "            'suggestCharts', [key], {});\n",
              "      } catch (error) {\n",
              "        console.error('Error during call to suggestCharts:', error);\n",
              "      }\n",
              "      quickchartButtonEl.classList.remove('colab-df-spinner');\n",
              "      quickchartButtonEl.classList.add('colab-df-quickchart-complete');\n",
              "    }\n",
              "    (() => {\n",
              "      let quickchartButtonEl =\n",
              "        document.querySelector('#df-c66eccb8-dd88-475d-a4c4-dbf5b785806d button');\n",
              "      quickchartButtonEl.style.display =\n",
              "        google.colab.kernel.accessAllowed ? 'block' : 'none';\n",
              "    })();\n",
              "  </script>\n",
              "</div>\n",
              "    </div>\n",
              "  </div>\n"
            ],
            "application/vnd.google.colaboratory.intrinsic+json": {
              "type": "dataframe",
              "summary": "{\n  \"name\": \"df\",\n  \"rows\": 8,\n  \"fields\": [\n    {\n      \"column\": \"step\",\n      \"properties\": {\n        \"dtype\": \"number\",\n        \"std\": 35923.17910584061,\n        \"min\": 1.0,\n        \"max\": 101613.0,\n        \"num_unique_values\": 7,\n        \"samples\": [\n          101613.0,\n          8.523456644327005,\n          9.0\n        ],\n        \"semantic_type\": \"\",\n        \"description\": \"\"\n      }\n    },\n    {\n      \"column\": \"amount\",\n      \"properties\": {\n        \"dtype\": \"number\",\n        \"std\": 3492148.872095035,\n        \"min\": 0.32,\n        \"max\": 10000000.0,\n        \"num_unique_values\": 8,\n        \"samples\": [\n          174090.0689038804,\n          53385.41,\n          101613.0\n        ],\n        \"semantic_type\": \"\",\n        \"description\": \"\"\n      }\n    },\n    {\n      \"column\": \"oldbalanceOrg\",\n      \"properties\": {\n        \"dtype\": \"number\",\n        \"std\": 13596797.926359642,\n        \"min\": 0.0,\n        \"max\": 38939424.03,\n        \"num_unique_values\": 7,\n        \"samples\": [\n          101613.0,\n          907175.2565726828,\n          194715.0\n        ],\n        \"semantic_type\": \"\",\n        \"description\": \"\"\n      }\n    },\n    {\n      \"column\": \"newbalanceOrig\",\n      \"properties\": {\n        \"dtype\": \"number\",\n        \"std\": 13597237.997246789,\n        \"min\": 0.0,\n        \"max\": 38946233.02,\n        \"num_unique_values\": 6,\n        \"samples\": [\n          101613.0,\n          923499.2474566246,\n          38946233.02\n        ],\n        \"semantic_type\": \"\",\n        \"description\": \"\"\n      }\n    },\n    {\n      \"column\": \"oldbalanceDest\",\n      \"properties\": {\n        \"dtype\": \"number\",\n        \"std\": 11849956.394666536,\n        \"min\": 0.0,\n        \"max\": 34008736.98,\n        \"num_unique_values\": 7,\n        \"samples\": [\n          101613.0,\n          881042.7974288723,\n          591921.7\n        ],\n        \"semantic_type\": \"\",\n        \"description\": \"\"\n      }\n    },\n    {\n      \"column\": \"newbalanceDest\",\n      \"properties\": {\n        \"dtype\": \"number\",\n        \"std\": 13541414.760414734,\n        \"min\": 0.0,\n        \"max\": 38946233.02,\n        \"num_unique_values\": 7,\n        \"samples\": [\n          101613.0,\n          1183998.098738744,\n          1063121.64\n        ],\n        \"semantic_type\": \"\",\n        \"description\": \"\"\n      }\n    },\n    {\n      \"column\": \"isFraud\",\n      \"properties\": {\n        \"dtype\": \"number\",\n        \"std\": 35925.56840920077,\n        \"min\": 0.0,\n        \"max\": 101613.0,\n        \"num_unique_values\": 5,\n        \"samples\": [\n          0.0011415862143623356,\n          1.0,\n          0.03376824273203917\n        ],\n        \"semantic_type\": \"\",\n        \"description\": \"\"\n      }\n    },\n    {\n      \"column\": \"isFlaggedFraud\",\n      \"properties\": {\n        \"dtype\": \"number\",\n        \"std\": 35925.620678354324,\n        \"min\": 0.0,\n        \"max\": 101613.0,\n        \"num_unique_values\": 2,\n        \"samples\": [\n          0.0,\n          101613.0\n        ],\n        \"semantic_type\": \"\",\n        \"description\": \"\"\n      }\n    }\n  ]\n}"
            }
          },
          "metadata": {},
          "execution_count": 55
        }
      ]
    },
    {
      "cell_type": "markdown",
      "source": [
        "#### Kolom isFlaggedFraud sepertinya semua bernilai 0, yang berarti tidak ada transaksi yang dianggap sebagai kecurangan, dan mungkin kolom ini selanjutanya akan dihapus karena tidak diperlukan dalam pemodelan."
      ],
      "metadata": {
        "id": "vE62VmRfECDG"
      }
    },
    {
      "cell_type": "code",
      "source": [
        "# Menampilkan frekuensi nilai unik untuk kolom 'step'\n",
        "\n",
        "print(f\"\\nFrekuensi nilai unik untuk {'step'}:\\n{df['step'].value_counts()}\")"
      ],
      "metadata": {
        "colab": {
          "base_uri": "https://localhost:8080/"
        },
        "id": "VKx0F9x8TLkz",
        "outputId": "d8837973-18f4-4593-d962-2182a4b220f7"
      },
      "execution_count": null,
      "outputs": [
        {
          "output_type": "stream",
          "name": "stdout",
          "text": [
            "\n",
            "Frekuensi nilai unik untuk step:\n",
            "9     37628\n",
            "10    28887\n",
            "8     21097\n",
            "7      6837\n",
            "1      2708\n",
            "6      1660\n",
            "2      1014\n",
            "5       665\n",
            "4       565\n",
            "3       552\n",
            "Name: step, dtype: int64\n"
          ]
        }
      ]
    },
    {
      "cell_type": "code",
      "source": [
        "# Visualisasinya\n",
        "\n",
        "step_counts = df['step'].value_counts().sort_values(ascending=False)\n",
        "plt.figure(figsize=(10, 6))\n",
        "sns.barplot(x=step_counts.index, y=step_counts.values, order=step_counts.index, color='black')\n",
        "plt.title('Frekuensi Nilai Unik pada Kolom \"step (jam)\"')\n",
        "plt.xlabel('Step')\n",
        "plt.ylabel('Frekuensi')\n",
        "plt.show()"
      ],
      "metadata": {
        "colab": {
          "base_uri": "https://localhost:8080/",
          "height": 564
        },
        "id": "dDHzGqojCwEQ",
        "outputId": "a2337ffc-83b6-484d-ebf5-c2fb06cbb04a"
      },
      "execution_count": null,
      "outputs": [
        {
          "output_type": "display_data",
          "data": {
            "text/plain": [
              "<Figure size 1000x600 with 1 Axes>"
            ],
            "image/png": "[encoded data removed]"
          },
          "metadata": {}
        }
      ]
    },
    {
      "cell_type": "markdown",
      "source": [
        "#### Step (jam) ke-9 memiliki frekuensi transaksi tertinggi."
      ],
      "metadata": {
        "id": "ZxL72_9PDxdG"
      }
    },
    {
      "cell_type": "code",
      "source": [
        "# Jumlah transaksi terindikasi Fraud berdasarkan 'step'\n",
        "\n",
        "fraud_by_step = df.groupby('step')['isFraud'].sum().reset_index()\n",
        "fraud_by_step"
      ],
      "metadata": {
        "colab": {
          "base_uri": "https://localhost:8080/",
          "height": 363
        },
        "id": "SlTNS1tE_GRX",
        "outputId": "a60f432b-aba5-40e1-8621-1d4092c21b7e"
      },
      "execution_count": null,
      "outputs": [
        {
          "output_type": "execute_result",
          "data": {
            "text/plain": [
              "   step  isFraud\n",
              "0     1       16\n",
              "1     2        8\n",
              "2     3        4\n",
              "3     4       10\n",
              "4     5        6\n",
              "5     6       22\n",
              "6     7       12\n",
              "7     8       12\n",
              "8     9       19\n",
              "9    10        7"
            ],
            "text/html": [
              "\n",
              "  <div id=\"df-b83dbf9f-7b26-43b0-bd56-0045648db339\" class=\"colab-df-container\">\n",
              "    <div>\n",
              "<style scoped>\n",
              "    .dataframe tbody tr th:only-of-type {\n",
              "        vertical-align: middle;\n",
              "    }\n",
              "\n",
              "    .dataframe tbody tr th {\n",
              "        vertical-align: top;\n",
              "    }\n",
              "\n",
              "    .dataframe thead th {\n",
              "        text-align: right;\n",
              "    }\n",
              "</style>\n",
              "<table border=\"1\" class=\"dataframe\">\n",
              "  <thead>\n",
              "    <tr style=\"text-align: right;\">\n",
              "      <th></th>\n",
              "      <th>step</th>\n",
              "      <th>isFraud</th>\n",
              "    </tr>\n",
              "  </thead>\n",
              "  <tbody>\n",
              "    <tr>\n",
              "      <th>0</th>\n",
              "      <td>1</td>\n",
              "      <td>16</td>\n",
              "    </tr>\n",
              "    <tr>\n",
              "      <th>1</th>\n",
              "      <td>2</td>\n",
              "      <td>8</td>\n",
              "    </tr>\n",
              "    <tr>\n",
              "      <th>2</th>\n",
              "      <td>3</td>\n",
              "      <td>4</td>\n",
              "    </tr>\n",
              "    <tr>\n",
              "      <th>3</th>\n",
              "      <td>4</td>\n",
              "      <td>10</td>\n",
              "    </tr>\n",
              "    <tr>\n",
              "      <th>4</th>\n",
              "      <td>5</td>\n",
              "      <td>6</td>\n",
              "    </tr>\n",
              "    <tr>\n",
              "      <th>5</th>\n",
              "      <td>6</td>\n",
              "      <td>22</td>\n",
              "    </tr>\n",
              "    <tr>\n",
              "      <th>6</th>\n",
              "      <td>7</td>\n",
              "      <td>12</td>\n",
              "    </tr>\n",
              "    <tr>\n",
              "      <th>7</th>\n",
              "      <td>8</td>\n",
              "      <td>12</td>\n",
              "    </tr>\n",
              "    <tr>\n",
              "      <th>8</th>\n",
              "      <td>9</td>\n",
              "      <td>19</td>\n",
              "    </tr>\n",
              "    <tr>\n",
              "      <th>9</th>\n",
              "      <td>10</td>\n",
              "      <td>7</td>\n",
              "    </tr>\n",
              "  </tbody>\n",
              "</table>\n",
              "</div>\n",
              "    <div class=\"colab-df-buttons\">\n",
              "\n",
              "  <div class=\"colab-df-container\">\n",
              "    <button class=\"colab-df-convert\" onclick=\"convertToInteractive('df-b83dbf9f-7b26-43b0-bd56-0045648db339')\"\n",
              "            title=\"Convert this dataframe to an interactive table.\"\n",
              "            style=\"display:none;\">\n",
              "\n",
              "  <svg xmlns=\"http://www.w3.org/2000/svg\" height=\"24px\" viewBox=\"0 -960 960 960\">\n",
              "    <path d=\"M120-120v-720h720v720H120Zm60-500h600v-160H180v160Zm220 220h160v-160H400v160Zm0 220h160v-160H400v160ZM180-400h160v-160H180v160Zm440 0h160v-160H620v160ZM180-180h160v-160H180v160Zm440 0h160v-160H620v160Z\"/>\n",
              "  </svg>\n",
              "    </button>\n",
              "\n",
              "  <style>\n",
              "    .colab-df-container {\n",
              "      display:flex;\n",
              "      gap: 12px;\n",
              "    }\n",
              "\n",
              "    .colab-df-convert {\n",
              "      background-color: #E8F0FE;\n",
              "      border: none;\n",
              "      border-radius: 50%;\n",
              "      cursor: pointer;\n",
              "      display: none;\n",
              "      fill: #1967D2;\n",
              "      height: 32px;\n",
              "      padding: 0 0 0 0;\n",
              "      width: 32px;\n",
              "    }\n",
              "\n",
              "    .colab-df-convert:hover {\n",
              "      background-color: #E2EBFA;\n",
              "      box-shadow: 0px 1px 2px rgba(60, 64, 67, 0.3), 0px 1px 3px 1px rgba(60, 64, 67, 0.15);\n",
              "      fill: #174EA6;\n",
              "    }\n",
              "\n",
              "    .colab-df-buttons div {\n",
              "      margin-bottom: 4px;\n",
              "    }\n",
              "\n",
              "    [theme=dark] .colab-df-convert {\n",
              "      background-color: #3B4455;\n",
              "      fill: #D2E3FC;\n",
              "    }\n",
              "\n",
              "    [theme=dark] .colab-df-convert:hover {\n",
              "      background-color: #434B5C;\n",
              "      box-shadow: 0px 1px 3px 1px rgba(0, 0, 0, 0.15);\n",
              "      filter: drop-shadow(0px 1px 2px rgba(0, 0, 0, 0.3));\n",
              "      fill: #FFFFFF;\n",
              "    }\n",
              "  </style>\n",
              "\n",
              "    <script>\n",
              "      const buttonEl =\n",
              "        document.querySelector('#df-b83dbf9f-7b26-43b0-bd56-0045648db339 button.colab-df-convert');\n",
              "      buttonEl.style.display =\n",
              "        google.colab.kernel.accessAllowed ? 'block' : 'none';\n",
              "\n",
              "      async function convertToInteractive(key) {\n",
              "        const element = document.querySelector('#df-b83dbf9f-7b26-43b0-bd56-0045648db339');\n",
              "        const dataTable =\n",
              "          await google.colab.kernel.invokeFunction('convertToInteractive',\n",
              "                                                    [key], {});\n",
              "        if (!dataTable) return;\n",
              "\n",
              "        const docLinkHtml = 'Like what you see? Visit the ' +\n",
              "          '<a target=\"_blank\" href=https://colab.research.google.com/notebooks/data_table.ipynb>data table notebook</a>'\n",
              "          + ' to learn more about interactive tables.';\n",
              "        element.innerHTML = '';\n",
              "        dataTable['output_type'] = 'display_data';\n",
              "        await google.colab.output.renderOutput(dataTable, element);\n",
              "        const docLink = document.createElement('div');\n",
              "        docLink.innerHTML = docLinkHtml;\n",
              "        element.appendChild(docLink);\n",
              "      }\n",
              "    </script>\n",
              "  </div>\n",
              "\n",
              "\n",
              "<div id=\"df-5fb1740e-2cf0-401f-8870-15577252a1cf\">\n",
              "  <button class=\"colab-df-quickchart\" onclick=\"quickchart('df-5fb1740e-2cf0-401f-8870-15577252a1cf')\"\n",
              "            title=\"Suggest charts\"\n",
              "            style=\"display:none;\">\n",
              "\n",
              "<svg xmlns=\"http://www.w3.org/2000/svg\" height=\"24px\"viewBox=\"0 0 24 24\"\n",
              "     width=\"24px\">\n",
              "    <g>\n",
              "        <path d=\"M19 3H5c-1.1 0-2 .9-2 2v14c0 1.1.9 2 2 2h14c1.1 0 2-.9 2-2V5c0-1.1-.9-2-2-2zM9 17H7v-7h2v7zm4 0h-2V7h2v10zm4 0h-2v-4h2v4z\"/>\n",
              "    </g>\n",
              "</svg>\n",
              "  </button>\n",
              "\n",
              "<style>\n",
              "  .colab-df-quickchart {\n",
              "      --bg-color: #E8F0FE;\n",
              "      --fill-color: #1967D2;\n",
              "      --hover-bg-color: #E2EBFA;\n",
              "      --hover-fill-color: #174EA6;\n",
              "      --disabled-fill-color: #AAA;\n",
              "      --disabled-bg-color: #DDD;\n",
              "  }\n",
              "\n",
              "  [theme=dark] .colab-df-quickchart {\n",
              "      --bg-color: #3B4455;\n",
              "      --fill-color: #D2E3FC;\n",
              "      --hover-bg-color: #434B5C;\n",
              "      --hover-fill-color: #FFFFFF;\n",
              "      --disabled-bg-color: #3B4455;\n",
              "      --disabled-fill-color: #666;\n",
              "  }\n",
              "\n",
              "  .colab-df-quickchart {\n",
              "    background-color: var(--bg-color);\n",
              "    border: none;\n",
              "    border-radius: 50%;\n",
              "    cursor: pointer;\n",
              "    display: none;\n",
              "    fill: var(--fill-color);\n",
              "    height: 32px;\n",
              "    padding: 0;\n",
              "    width: 32px;\n",
              "  }\n",
              "\n",
              "  .colab-df-quickchart:hover {\n",
              "    background-color: var(--hover-bg-color);\n",
              "    box-shadow: 0 1px 2px rgba(60, 64, 67, 0.3), 0 1px 3px 1px rgba(60, 64, 67, 0.15);\n",
              "    fill: var(--button-hover-fill-color);\n",
              "  }\n",
              "\n",
              "  .colab-df-quickchart-complete:disabled,\n",
              "  .colab-df-quickchart-complete:disabled:hover {\n",
              "    background-color: var(--disabled-bg-color);\n",
              "    fill: var(--disabled-fill-color);\n",
              "    box-shadow: none;\n",
              "  }\n",
              "\n",
              "  .colab-df-spinner {\n",
              "    border: 2px solid var(--fill-color);\n",
              "    border-color: transparent;\n",
              "    border-bottom-color: var(--fill-color);\n",
              "    animation:\n",
              "      spin 1s steps(1) infinite;\n",
              "  }\n",
              "\n",
              "  @keyframes spin {\n",
              "    0% {\n",
              "      border-color: transparent;\n",
              "      border-bottom-color: var(--fill-color);\n",
              "      border-left-color: var(--fill-color);\n",
              "    }\n",
              "    20% {\n",
              "      border-color: transparent;\n",
              "      border-left-color: var(--fill-color);\n",
              "      border-top-color: var(--fill-color);\n",
              "    }\n",
              "    30% {\n",
              "      border-color: transparent;\n",
              "      border-left-color: var(--fill-color);\n",
              "      border-top-color: var(--fill-color);\n",
              "      border-right-color: var(--fill-color);\n",
              "    }\n",
              "    40% {\n",
              "      border-color: transparent;\n",
              "      border-right-color: var(--fill-color);\n",
              "      border-top-color: var(--fill-color);\n",
              "    }\n",
              "    60% {\n",
              "      border-color: transparent;\n",
              "      border-right-color: var(--fill-color);\n",
              "    }\n",
              "    80% {\n",
              "      border-color: transparent;\n",
              "      border-right-color: var(--fill-color);\n",
              "      border-bottom-color: var(--fill-color);\n",
              "    }\n",
              "    90% {\n",
              "      border-color: transparent;\n",
              "      border-bottom-color: var(--fill-color);\n",
              "    }\n",
              "  }\n",
              "</style>\n",
              "\n",
              "  <script>\n",
              "    async function quickchart(key) {\n",
              "      const quickchartButtonEl =\n",
              "        document.querySelector('#' + key + ' button');\n",
              "      quickchartButtonEl.disabled = true;  // To prevent multiple clicks.\n",
              "      quickchartButtonEl.classList.add('colab-df-spinner');\n",
              "      try {\n",
              "        const charts = await google.colab.kernel.invokeFunction(\n",
              "            'suggestCharts', [key], {});\n",
              "      } catch (error) {\n",
              "        console.error('Error during call to suggestCharts:', error);\n",
              "      }\n",
              "      quickchartButtonEl.classList.remove('colab-df-spinner');\n",
              "      quickchartButtonEl.classList.add('colab-df-quickchart-complete');\n",
              "    }\n",
              "    (() => {\n",
              "      let quickchartButtonEl =\n",
              "        document.querySelector('#df-5fb1740e-2cf0-401f-8870-15577252a1cf button');\n",
              "      quickchartButtonEl.style.display =\n",
              "        google.colab.kernel.accessAllowed ? 'block' : 'none';\n",
              "    })();\n",
              "  </script>\n",
              "</div>\n",
              "    </div>\n",
              "  </div>\n"
            ],
            "application/vnd.google.colaboratory.intrinsic+json": {
              "type": "dataframe",
              "variable_name": "fraud_by_step",
              "summary": "{\n  \"name\": \"fraud_by_step\",\n  \"rows\": 10,\n  \"fields\": [\n    {\n      \"column\": \"step\",\n      \"properties\": {\n        \"dtype\": \"number\",\n        \"std\": 3,\n        \"min\": 1,\n        \"max\": 10,\n        \"num_unique_values\": 10,\n        \"samples\": [\n          9,\n          2,\n          6\n        ],\n        \"semantic_type\": \"\",\n        \"description\": \"\"\n      }\n    },\n    {\n      \"column\": \"isFraud\",\n      \"properties\": {\n        \"dtype\": \"number\",\n        \"std\": 5,\n        \"min\": 4,\n        \"max\": 22,\n        \"num_unique_values\": 9,\n        \"samples\": [\n          19,\n          8,\n          22\n        ],\n        \"semantic_type\": \"\",\n        \"description\": \"\"\n      }\n    }\n  ]\n}"
            }
          },
          "metadata": {},
          "execution_count": 58
        }
      ]
    },
    {
      "cell_type": "code",
      "source": [
        "# Visualisasinya\n",
        "\n",
        "fraud_by_step_sorted = fraud_by_step.sort_values(by='isFraud', ascending=False)\n",
        "plt.figure(figsize=(10, 6))\n",
        "sns.barplot(x='step', y='isFraud', data=fraud_by_step_sorted, color='black', order=fraud_by_step_sorted['step'])\n",
        "plt.title('Jumlah Transaksi Terindikasi Fraud Berdasarkan step (jam)')\n",
        "plt.xlabel('Jam (step)')\n",
        "plt.ylabel('Jumlah Transaksi terindikasi Fraud')\n",
        "plt.show()"
      ],
      "metadata": {
        "colab": {
          "base_uri": "https://localhost:8080/",
          "height": 564
        },
        "id": "NR1g2XMI_F9z",
        "outputId": "c0b6ecee-7dfe-41b3-e522-87b511fe6cf2"
      },
      "execution_count": null,
      "outputs": [
        {
          "output_type": "display_data",
          "data": {
            "text/plain": [
              "<Figure size 1000x600 with 1 Axes>"
            ],
            "image/png": "[encoded data removed]"
          },
          "metadata": {}
        }
      ]
    },
    {
      "cell_type": "markdown",
      "source": [
        "#### Step (jam) ke-6 memiliki aktivitas transaksi yg terindikasi Fraud sebanyak 22 transaksi merupakan yg tertinggi dari 10 step yg ada dalam dataset, dimana step ke-6 hanya memiliki aktivitas transaksi sebesar 1660 jauh lebih kecil jika dibandingkan dengan step ke-9 yg memiliki aktivitas transaksi sebesar 37628 dengan aktivitas transaksi yg terindikasi Fraud sebesar 19. Jadi disini dapat disimpulkan step dengan aktivitas transaksi yg tinggi belum tentu mengandung aktivitas transaksi yg terindikasi Fraud juga tinggi"
      ],
      "metadata": {
        "id": "H_iHiDtNBvfC"
      }
    },
    {
      "cell_type": "code",
      "source": [
        "# Menampilkan frekuensi nilai unik untuk kolom 'type'\n",
        "\n",
        "print(f\"\\nFrekuensi nilai unik untuk {'type'}:\\n{df['type'].value_counts()}\")"
      ],
      "metadata": {
        "colab": {
          "base_uri": "https://localhost:8080/"
        },
        "id": "cDwPW0eBI4UT",
        "outputId": "dc6c9ef7-2f73-45ca-9bf1-722e2dc87244"
      },
      "execution_count": null,
      "outputs": [
        {
          "output_type": "stream",
          "name": "stdout",
          "text": [
            "\n",
            "Frekuensi nilai unik untuk type:\n",
            "PAYMENT     40062\n",
            "CASH_OUT    31310\n",
            "CASH_IN     20540\n",
            "TRANSFER     8689\n",
            "DEBIT        1012\n",
            "Name: type, dtype: int64\n"
          ]
        }
      ]
    },
    {
      "cell_type": "code",
      "source": [
        "# Visualisasinya\n",
        "\n",
        "step_counts = df['type'].value_counts().sort_values(ascending=False)\n",
        "plt.figure(figsize=(10, 6))\n",
        "sns.barplot(x=step_counts.index, y=step_counts.values, color='navy')\n",
        "plt.title('Frekuensi Nilai Unik pada Kolom Type Transaksi')\n",
        "plt.xlabel('Type Transaksi')\n",
        "plt.ylabel('Frekuensi')\n",
        "plt.show()"
      ],
      "metadata": {
        "colab": {
          "base_uri": "https://localhost:8080/",
          "height": 564
        },
        "id": "qaHK-FeKLcm_",
        "outputId": "e2c7f8a1-ffac-4a84-c22c-66ed6e7812b4"
      },
      "execution_count": null,
      "outputs": [
        {
          "output_type": "display_data",
          "data": {
            "text/plain": [
              "<Figure size 1000x600 with 1 Axes>"
            ],
            "image/png": "[encoded data removed]"
          },
          "metadata": {}
        }
      ]
    },
    {
      "cell_type": "markdown",
      "source": [
        "#### Tipe transaksi payment, cash-out dan cash-in merupakan jenis transaksi yang paling sering digunakan"
      ],
      "metadata": {
        "id": "t1z3fOfdK_Al"
      }
    },
    {
      "cell_type": "code",
      "source": [
        "# Jumlah transaksi yang terindikasi Fraud berdasarkan 'type'\n",
        "\n",
        "fraud_by_type = df.groupby('type')['isFraud'].sum().reset_index()\n",
        "fraud_by_type"
      ],
      "metadata": {
        "colab": {
          "base_uri": "https://localhost:8080/",
          "height": 206
        },
        "id": "Ml3HXAEHBM9D",
        "outputId": "aa147738-89b7-46b5-e4cf-0743ed350053"
      },
      "execution_count": null,
      "outputs": [
        {
          "output_type": "execute_result",
          "data": {
            "text/plain": [
              "       type  isFraud\n",
              "0   CASH_IN        0\n",
              "1  CASH_OUT       59\n",
              "2     DEBIT        0\n",
              "3   PAYMENT        0\n",
              "4  TRANSFER       57"
            ],
            "text/html": [
              "\n",
              "  <div id=\"df-e4e3b72a-1fdb-4cb5-8da2-7ec091e7e81a\" class=\"colab-df-container\">\n",
              "    <div>\n",
              "<style scoped>\n",
              "    .dataframe tbody tr th:only-of-type {\n",
              "        vertical-align: middle;\n",
              "    }\n",
              "\n",
              "    .dataframe tbody tr th {\n",
              "        vertical-align: top;\n",
              "    }\n",
              "\n",
              "    .dataframe thead th {\n",
              "        text-align: right;\n",
              "    }\n",
              "</style>\n",
              "<table border=\"1\" class=\"dataframe\">\n",
              "  <thead>\n",
              "    <tr style=\"text-align: right;\">\n",
              "      <th></th>\n",
              "      <th>type</th>\n",
              "      <th>isFraud</th>\n",
              "    </tr>\n",
              "  </thead>\n",
              "  <tbody>\n",
              "    <tr>\n",
              "      <th>0</th>\n",
              "      <td>CASH_IN</td>\n",
              "      <td>0</td>\n",
              "    </tr>\n",
              "    <tr>\n",
              "      <th>1</th>\n",
              "      <td>CASH_OUT</td>\n",
              "      <td>59</td>\n",
              "    </tr>\n",
              "    <tr>\n",
              "      <th>2</th>\n",
              "      <td>DEBIT</td>\n",
              "      <td>0</td>\n",
              "    </tr>\n",
              "    <tr>\n",
              "      <th>3</th>\n",
              "      <td>PAYMENT</td>\n",
              "      <td>0</td>\n",
              "    </tr>\n",
              "    <tr>\n",
              "      <th>4</th>\n",
              "      <td>TRANSFER</td>\n",
              "      <td>57</td>\n",
              "    </tr>\n",
              "  </tbody>\n",
              "</table>\n",
              "</div>\n",
              "    <div class=\"colab-df-buttons\">\n",
              "\n",
              "  <div class=\"colab-df-container\">\n",
              "    <button class=\"colab-df-convert\" onclick=\"convertToInteractive('df-e4e3b72a-1fdb-4cb5-8da2-7ec091e7e81a')\"\n",
              "            title=\"Convert this dataframe to an interactive table.\"\n",
              "            style=\"display:none;\">\n",
              "\n",
              "  <svg xmlns=\"http://www.w3.org/2000/svg\" height=\"24px\" viewBox=\"0 -960 960 960\">\n",
              "    <path d=\"M120-120v-720h720v720H120Zm60-500h600v-160H180v160Zm220 220h160v-160H400v160Zm0 220h160v-160H400v160ZM180-400h160v-160H180v160Zm440 0h160v-160H620v160ZM180-180h160v-160H180v160Zm440 0h160v-160H620v160Z\"/>\n",
              "  </svg>\n",
              "    </button>\n",
              "\n",
              "  <style>\n",
              "    .colab-df-container {\n",
              "      display:flex;\n",
              "      gap: 12px;\n",
              "    }\n",
              "\n",
              "    .colab-df-convert {\n",
              "      background-color: #E8F0FE;\n",
              "      border: none;\n",
              "      border-radius: 50%;\n",
              "      cursor: pointer;\n",
              "      display: none;\n",
              "      fill: #1967D2;\n",
              "      height: 32px;\n",
              "      padding: 0 0 0 0;\n",
              "      width: 32px;\n",
              "    }\n",
              "\n",
              "    .colab-df-convert:hover {\n",
              "      background-color: #E2EBFA;\n",
              "      box-shadow: 0px 1px 2px rgba(60, 64, 67, 0.3), 0px 1px 3px 1px rgba(60, 64, 67, 0.15);\n",
              "      fill: #174EA6;\n",
              "    }\n",
              "\n",
              "    .colab-df-buttons div {\n",
              "      margin-bottom: 4px;\n",
              "    }\n",
              "\n",
              "    [theme=dark] .colab-df-convert {\n",
              "      background-color: #3B4455;\n",
              "      fill: #D2E3FC;\n",
              "    }\n",
              "\n",
              "    [theme=dark] .colab-df-convert:hover {\n",
              "      background-color: #434B5C;\n",
              "      box-shadow: 0px 1px 3px 1px rgba(0, 0, 0, 0.15);\n",
              "      filter: drop-shadow(0px 1px 2px rgba(0, 0, 0, 0.3));\n",
              "      fill: #FFFFFF;\n",
              "    }\n",
              "  </style>\n",
              "\n",
              "    <script>\n",
              "      const buttonEl =\n",
              "        document.querySelector('#df-e4e3b72a-1fdb-4cb5-8da2-7ec091e7e81a button.colab-df-convert');\n",
              "      buttonEl.style.display =\n",
              "        google.colab.kernel.accessAllowed ? 'block' : 'none';\n",
              "\n",
              "      async function convertToInteractive(key) {\n",
              "        const element = document.querySelector('#df-e4e3b72a-1fdb-4cb5-8da2-7ec091e7e81a');\n",
              "        const dataTable =\n",
              "          await google.colab.kernel.invokeFunction('convertToInteractive',\n",
              "                                                    [key], {});\n",
              "        if (!dataTable) return;\n",
              "\n",
              "        const docLinkHtml = 'Like what you see? Visit the ' +\n",
              "          '<a target=\"_blank\" href=https://colab.research.google.com/notebooks/data_table.ipynb>data table notebook</a>'\n",
              "          + ' to learn more about interactive tables.';\n",
              "        element.innerHTML = '';\n",
              "        dataTable['output_type'] = 'display_data';\n",
              "        await google.colab.output.renderOutput(dataTable, element);\n",
              "        const docLink = document.createElement('div');\n",
              "        docLink.innerHTML = docLinkHtml;\n",
              "        element.appendChild(docLink);\n",
              "      }\n",
              "    </script>\n",
              "  </div>\n",
              "\n",
              "\n",
              "<div id=\"df-93df214c-3e66-406f-9133-8a6678d38c31\">\n",
              "  <button class=\"colab-df-quickchart\" onclick=\"quickchart('df-93df214c-3e66-406f-9133-8a6678d38c31')\"\n",
              "            title=\"Suggest charts\"\n",
              "            style=\"display:none;\">\n",
              "\n",
              "<svg xmlns=\"http://www.w3.org/2000/svg\" height=\"24px\"viewBox=\"0 0 24 24\"\n",
              "     width=\"24px\">\n",
              "    <g>\n",
              "        <path d=\"M19 3H5c-1.1 0-2 .9-2 2v14c0 1.1.9 2 2 2h14c1.1 0 2-.9 2-2V5c0-1.1-.9-2-2-2zM9 17H7v-7h2v7zm4 0h-2V7h2v10zm4 0h-2v-4h2v4z\"/>\n",
              "    </g>\n",
              "</svg>\n",
              "  </button>\n",
              "\n",
              "<style>\n",
              "  .colab-df-quickchart {\n",
              "      --bg-color: #E8F0FE;\n",
              "      --fill-color: #1967D2;\n",
              "      --hover-bg-color: #E2EBFA;\n",
              "      --hover-fill-color: #174EA6;\n",
              "      --disabled-fill-color: #AAA;\n",
              "      --disabled-bg-color: #DDD;\n",
              "  }\n",
              "\n",
              "  [theme=dark] .colab-df-quickchart {\n",
              "      --bg-color: #3B4455;\n",
              "      --fill-color: #D2E3FC;\n",
              "      --hover-bg-color: #434B5C;\n",
              "      --hover-fill-color: #FFFFFF;\n",
              "      --disabled-bg-color: #3B4455;\n",
              "      --disabled-fill-color: #666;\n",
              "  }\n",
              "\n",
              "  .colab-df-quickchart {\n",
              "    background-color: var(--bg-color);\n",
              "    border: none;\n",
              "    border-radius: 50%;\n",
              "    cursor: pointer;\n",
              "    display: none;\n",
              "    fill: var(--fill-color);\n",
              "    height: 32px;\n",
              "    padding: 0;\n",
              "    width: 32px;\n",
              "  }\n",
              "\n",
              "  .colab-df-quickchart:hover {\n",
              "    background-color: var(--hover-bg-color);\n",
              "    box-shadow: 0 1px 2px rgba(60, 64, 67, 0.3), 0 1px 3px 1px rgba(60, 64, 67, 0.15);\n",
              "    fill: var(--button-hover-fill-color);\n",
              "  }\n",
              "\n",
              "  .colab-df-quickchart-complete:disabled,\n",
              "  .colab-df-quickchart-complete:disabled:hover {\n",
              "    background-color: var(--disabled-bg-color);\n",
              "    fill: var(--disabled-fill-color);\n",
              "    box-shadow: none;\n",
              "  }\n",
              "\n",
              "  .colab-df-spinner {\n",
              "    border: 2px solid var(--fill-color);\n",
              "    border-color: transparent;\n",
              "    border-bottom-color: var(--fill-color);\n",
              "    animation:\n",
              "      spin 1s steps(1) infinite;\n",
              "  }\n",
              "\n",
              "  @keyframes spin {\n",
              "    0% {\n",
              "      border-color: transparent;\n",
              "      border-bottom-color: var(--fill-color);\n",
              "      border-left-color: var(--fill-color);\n",
              "    }\n",
              "    20% {\n",
              "      border-color: transparent;\n",
              "      border-left-color: var(--fill-color);\n",
              "      border-top-color: var(--fill-color);\n",
              "    }\n",
              "    30% {\n",
              "      border-color: transparent;\n",
              "      border-left-color: var(--fill-color);\n",
              "      border-top-color: var(--fill-color);\n",
              "      border-right-color: var(--fill-color);\n",
              "    }\n",
              "    40% {\n",
              "      border-color: transparent;\n",
              "      border-right-color: var(--fill-color);\n",
              "      border-top-color: var(--fill-color);\n",
              "    }\n",
              "    60% {\n",
              "      border-color: transparent;\n",
              "      border-right-color: var(--fill-color);\n",
              "    }\n",
              "    80% {\n",
              "      border-color: transparent;\n",
              "      border-right-color: var(--fill-color);\n",
              "      border-bottom-color: var(--fill-color);\n",
              "    }\n",
              "    90% {\n",
              "      border-color: transparent;\n",
              "      border-bottom-color: var(--fill-color);\n",
              "    }\n",
              "  }\n",
              "</style>\n",
              "\n",
              "  <script>\n",
              "    async function quickchart(key) {\n",
              "      const quickchartButtonEl =\n",
              "        document.querySelector('#' + key + ' button');\n",
              "      quickchartButtonEl.disabled = true;  // To prevent multiple clicks.\n",
              "      quickchartButtonEl.classList.add('colab-df-spinner');\n",
              "      try {\n",
              "        const charts = await google.colab.kernel.invokeFunction(\n",
              "            'suggestCharts', [key], {});\n",
              "      } catch (error) {\n",
              "        console.error('Error during call to suggestCharts:', error);\n",
              "      }\n",
              "      quickchartButtonEl.classList.remove('colab-df-spinner');\n",
              "      quickchartButtonEl.classList.add('colab-df-quickchart-complete');\n",
              "    }\n",
              "    (() => {\n",
              "      let quickchartButtonEl =\n",
              "        document.querySelector('#df-93df214c-3e66-406f-9133-8a6678d38c31 button');\n",
              "      quickchartButtonEl.style.display =\n",
              "        google.colab.kernel.accessAllowed ? 'block' : 'none';\n",
              "    })();\n",
              "  </script>\n",
              "</div>\n",
              "    </div>\n",
              "  </div>\n"
            ],
            "application/vnd.google.colaboratory.intrinsic+json": {
              "type": "dataframe",
              "variable_name": "fraud_by_type",
              "summary": "{\n  \"name\": \"fraud_by_type\",\n  \"rows\": 5,\n  \"fields\": [\n    {\n      \"column\": \"type\",\n      \"properties\": {\n        \"dtype\": \"string\",\n        \"num_unique_values\": 5,\n        \"samples\": [\n          \"CASH_OUT\",\n          \"TRANSFER\",\n          \"DEBIT\"\n        ],\n        \"semantic_type\": \"\",\n        \"description\": \"\"\n      }\n    },\n    {\n      \"column\": \"isFraud\",\n      \"properties\": {\n        \"dtype\": \"number\",\n        \"std\": 31,\n        \"min\": 0,\n        \"max\": 59,\n        \"num_unique_values\": 3,\n        \"samples\": [\n          0,\n          59,\n          57\n        ],\n        \"semantic_type\": \"\",\n        \"description\": \"\"\n      }\n    }\n  ]\n}"
            }
          },
          "metadata": {},
          "execution_count": 62
        }
      ]
    },
    {
      "cell_type": "code",
      "source": [
        "# Visualisasinya\n",
        "\n",
        "fraud_by_type_sorted = fraud_by_type.sort_values(by='isFraud', ascending=False)\n",
        "plt.figure(figsize=(10, 6))\n",
        "sns.barplot(x='type', y='isFraud', data=fraud_by_type_sorted, color='navy', order=fraud_by_type_sorted['type'])\n",
        "plt.title('Jumlah Transaksi Terindikasi Fraud Berdasarkan Type Transaksi')\n",
        "plt.xlabel('Type Transaksi')\n",
        "plt.ylabel('Jumlah Transaksi Fraud')\n",
        "plt.show()"
      ],
      "metadata": {
        "colab": {
          "base_uri": "https://localhost:8080/",
          "height": 564
        },
        "id": "-VKqLlbBBMzV",
        "outputId": "4018b004-b684-4234-f266-e9c6333e33d4"
      },
      "execution_count": null,
      "outputs": [
        {
          "output_type": "display_data",
          "data": {
            "text/plain": [
              "<Figure size 1000x600 with 1 Axes>"
            ],
            "image/png": "[encoded data removed]"
          },
          "metadata": {}
        }
      ]
    },
    {
      "cell_type": "markdown",
      "source": [
        "#### Type transaski cash-out memiliki aktivitas transaksi yg terindikasi Fraud tertinggi, padahal transaksi cash-out memiliki aktivitas transaksi lebih rendah dari payment, jadi dapat disimpulkan type transaksi yg memiliki aktivitas transaksi yg tinggi belum tentu terindikasi memiliki transaksi yg Fraud"
      ],
      "metadata": {
        "id": "o7x3Z4N_PC4d"
      }
    },
    {
      "cell_type": "markdown",
      "source": [
        "#### Melihat hubungan 'step' dan 'type' jika dihubungkan dengan transaksi yg Fraud atau tidak"
      ],
      "metadata": {
        "id": "Rx1Lv_PKHDuu"
      }
    },
    {
      "cell_type": "code",
      "source": [
        "# Jumlah Transaksi yg Terindikasi Fraud Berdasarkan Type Transaksi dan Waktunya\n",
        "\n",
        "pivot_table = pd.pivot_table(df, values='isFraud', index='step', columns='type', aggfunc='sum', fill_value=0)\n",
        "pivot_table"
      ],
      "metadata": {
        "colab": {
          "base_uri": "https://localhost:8080/",
          "height": 394
        },
        "id": "iYfgQRk0GOVs",
        "outputId": "eb125e7d-90d1-4d3f-d1b3-a7789d9d262f"
      },
      "execution_count": null,
      "outputs": [
        {
          "output_type": "execute_result",
          "data": {
            "text/plain": [
              "type  CASH_IN  CASH_OUT  DEBIT  PAYMENT  TRANSFER\n",
              "step                                             \n",
              "1           0         9      0        0         7\n",
              "2           0         4      0        0         4\n",
              "3           0         2      0        0         2\n",
              "4           0         5      0        0         5\n",
              "5           0         3      0        0         3\n",
              "6           0        11      0        0        11\n",
              "7           0         6      0        0         6\n",
              "8           0         6      0        0         6\n",
              "9           0         9      0        0        10\n",
              "10          0         4      0        0         3"
            ],
            "text/html": [
              "\n",
              "  <div id=\"df-7f987995-c2c4-45d9-bf87-60b0e9a8a312\" class=\"colab-df-container\">\n",
              "    <div>\n",
              "<style scoped>\n",
              "    .dataframe tbody tr th:only-of-type {\n",
              "        vertical-align: middle;\n",
              "    }\n",
              "\n",
              "    .dataframe tbody tr th {\n",
              "        vertical-align: top;\n",
              "    }\n",
              "\n",
              "    .dataframe thead th {\n",
              "        text-align: right;\n",
              "    }\n",
              "</style>\n",
              "<table border=\"1\" class=\"dataframe\">\n",
              "  <thead>\n",
              "    <tr style=\"text-align: right;\">\n",
              "      <th>type</th>\n",
              "      <th>CASH_IN</th>\n",
              "      <th>CASH_OUT</th>\n",
              "      <th>DEBIT</th>\n",
              "      <th>PAYMENT</th>\n",
              "      <th>TRANSFER</th>\n",
              "    </tr>\n",
              "    <tr>\n",
              "      <th>step</th>\n",
              "      <th></th>\n",
              "      <th></th>\n",
              "      <th></th>\n",
              "      <th></th>\n",
              "      <th></th>\n",
              "    </tr>\n",
              "  </thead>\n",
              "  <tbody>\n",
              "    <tr>\n",
              "      <th>1</th>\n",
              "      <td>0</td>\n",
              "      <td>9</td>\n",
              "      <td>0</td>\n",
              "      <td>0</td>\n",
              "      <td>7</td>\n",
              "    </tr>\n",
              "    <tr>\n",
              "      <th>2</th>\n",
              "      <td>0</td>\n",
              "      <td>4</td>\n",
              "      <td>0</td>\n",
              "      <td>0</td>\n",
              "      <td>4</td>\n",
              "    </tr>\n",
              "    <tr>\n",
              "      <th>3</th>\n",
              "      <td>0</td>\n",
              "      <td>2</td>\n",
              "      <td>0</td>\n",
              "      <td>0</td>\n",
              "      <td>2</td>\n",
              "    </tr>\n",
              "    <tr>\n",
              "      <th>4</th>\n",
              "      <td>0</td>\n",
              "      <td>5</td>\n",
              "      <td>0</td>\n",
              "      <td>0</td>\n",
              "      <td>5</td>\n",
              "    </tr>\n",
              "    <tr>\n",
              "      <th>5</th>\n",
              "      <td>0</td>\n",
              "      <td>3</td>\n",
              "      <td>0</td>\n",
              "      <td>0</td>\n",
              "      <td>3</td>\n",
              "    </tr>\n",
              "    <tr>\n",
              "      <th>6</th>\n",
              "      <td>0</td>\n",
              "      <td>11</td>\n",
              "      <td>0</td>\n",
              "      <td>0</td>\n",
              "      <td>11</td>\n",
              "    </tr>\n",
              "    <tr>\n",
              "      <th>7</th>\n",
              "      <td>0</td>\n",
              "      <td>6</td>\n",
              "      <td>0</td>\n",
              "      <td>0</td>\n",
              "      <td>6</td>\n",
              "    </tr>\n",
              "    <tr>\n",
              "      <th>8</th>\n",
              "      <td>0</td>\n",
              "      <td>6</td>\n",
              "      <td>0</td>\n",
              "      <td>0</td>\n",
              "      <td>6</td>\n",
              "    </tr>\n",
              "    <tr>\n",
              "      <th>9</th>\n",
              "      <td>0</td>\n",
              "      <td>9</td>\n",
              "      <td>0</td>\n",
              "      <td>0</td>\n",
              "      <td>10</td>\n",
              "    </tr>\n",
              "    <tr>\n",
              "      <th>10</th>\n",
              "      <td>0</td>\n",
              "      <td>4</td>\n",
              "      <td>0</td>\n",
              "      <td>0</td>\n",
              "      <td>3</td>\n",
              "    </tr>\n",
              "  </tbody>\n",
              "</table>\n",
              "</div>\n",
              "    <div class=\"colab-df-buttons\">\n",
              "\n",
              "  <div class=\"colab-df-container\">\n",
              "    <button class=\"colab-df-convert\" onclick=\"convertToInteractive('df-7f987995-c2c4-45d9-bf87-60b0e9a8a312')\"\n",
              "            title=\"Convert this dataframe to an interactive table.\"\n",
              "            style=\"display:none;\">\n",
              "\n",
              "  <svg xmlns=\"http://www.w3.org/2000/svg\" height=\"24px\" viewBox=\"0 -960 960 960\">\n",
              "    <path d=\"M120-120v-720h720v720H120Zm60-500h600v-160H180v160Zm220 220h160v-160H400v160Zm0 220h160v-160H400v160ZM180-400h160v-160H180v160Zm440 0h160v-160H620v160ZM180-180h160v-160H180v160Zm440 0h160v-160H620v160Z\"/>\n",
              "  </svg>\n",
              "    </button>\n",
              "\n",
              "  <style>\n",
              "    .colab-df-container {\n",
              "      display:flex;\n",
              "      gap: 12px;\n",
              "    }\n",
              "\n",
              "    .colab-df-convert {\n",
              "      background-color: #E8F0FE;\n",
              "      border: none;\n",
              "      border-radius: 50%;\n",
              "      cursor: pointer;\n",
              "      display: none;\n",
              "      fill: #1967D2;\n",
              "      height: 32px;\n",
              "      padding: 0 0 0 0;\n",
              "      width: 32px;\n",
              "    }\n",
              "\n",
              "    .colab-df-convert:hover {\n",
              "      background-color: #E2EBFA;\n",
              "      box-shadow: 0px 1px 2px rgba(60, 64, 67, 0.3), 0px 1px 3px 1px rgba(60, 64, 67, 0.15);\n",
              "      fill: #174EA6;\n",
              "    }\n",
              "\n",
              "    .colab-df-buttons div {\n",
              "      margin-bottom: 4px;\n",
              "    }\n",
              "\n",
              "    [theme=dark] .colab-df-convert {\n",
              "      background-color: #3B4455;\n",
              "      fill: #D2E3FC;\n",
              "    }\n",
              "\n",
              "    [theme=dark] .colab-df-convert:hover {\n",
              "      background-color: #434B5C;\n",
              "      box-shadow: 0px 1px 3px 1px rgba(0, 0, 0, 0.15);\n",
              "      filter: drop-shadow(0px 1px 2px rgba(0, 0, 0, 0.3));\n",
              "      fill: #FFFFFF;\n",
              "    }\n",
              "  </style>\n",
              "\n",
              "    <script>\n",
              "      const buttonEl =\n",
              "        document.querySelector('#df-7f987995-c2c4-45d9-bf87-60b0e9a8a312 button.colab-df-convert');\n",
              "      buttonEl.style.display =\n",
              "        google.colab.kernel.accessAllowed ? 'block' : 'none';\n",
              "\n",
              "      async function convertToInteractive(key) {\n",
              "        const element = document.querySelector('#df-7f987995-c2c4-45d9-bf87-60b0e9a8a312');\n",
              "        const dataTable =\n",
              "          await google.colab.kernel.invokeFunction('convertToInteractive',\n",
              "                                                    [key], {});\n",
              "        if (!dataTable) return;\n",
              "\n",
              "        const docLinkHtml = 'Like what you see? Visit the ' +\n",
              "          '<a target=\"_blank\" href=https://colab.research.google.com/notebooks/data_table.ipynb>data table notebook</a>'\n",
              "          + ' to learn more about interactive tables.';\n",
              "        element.innerHTML = '';\n",
              "        dataTable['output_type'] = 'display_data';\n",
              "        await google.colab.output.renderOutput(dataTable, element);\n",
              "        const docLink = document.createElement('div');\n",
              "        docLink.innerHTML = docLinkHtml;\n",
              "        element.appendChild(docLink);\n",
              "      }\n",
              "    </script>\n",
              "  </div>\n",
              "\n",
              "\n",
              "<div id=\"df-b8991da3-c62f-4a16-a3b7-2f7d148318a4\">\n",
              "  <button class=\"colab-df-quickchart\" onclick=\"quickchart('df-b8991da3-c62f-4a16-a3b7-2f7d148318a4')\"\n",
              "            title=\"Suggest charts\"\n",
              "            style=\"display:none;\">\n",
              "\n",
              "<svg xmlns=\"http://www.w3.org/2000/svg\" height=\"24px\"viewBox=\"0 0 24 24\"\n",
              "     width=\"24px\">\n",
              "    <g>\n",
              "        <path d=\"M19 3H5c-1.1 0-2 .9-2 2v14c0 1.1.9 2 2 2h14c1.1 0 2-.9 2-2V5c0-1.1-.9-2-2-2zM9 17H7v-7h2v7zm4 0h-2V7h2v10zm4 0h-2v-4h2v4z\"/>\n",
              "    </g>\n",
              "</svg>\n",
              "  </button>\n",
              "\n",
              "<style>\n",
              "  .colab-df-quickchart {\n",
              "      --bg-color: #E8F0FE;\n",
              "      --fill-color: #1967D2;\n",
              "      --hover-bg-color: #E2EBFA;\n",
              "      --hover-fill-color: #174EA6;\n",
              "      --disabled-fill-color: #AAA;\n",
              "      --disabled-bg-color: #DDD;\n",
              "  }\n",
              "\n",
              "  [theme=dark] .colab-df-quickchart {\n",
              "      --bg-color: #3B4455;\n",
              "      --fill-color: #D2E3FC;\n",
              "      --hover-bg-color: #434B5C;\n",
              "      --hover-fill-color: #FFFFFF;\n",
              "      --disabled-bg-color: #3B4455;\n",
              "      --disabled-fill-color: #666;\n",
              "  }\n",
              "\n",
              "  .colab-df-quickchart {\n",
              "    background-color: var(--bg-color);\n",
              "    border: none;\n",
              "    border-radius: 50%;\n",
              "    cursor: pointer;\n",
              "    display: none;\n",
              "    fill: var(--fill-color);\n",
              "    height: 32px;\n",
              "    padding: 0;\n",
              "    width: 32px;\n",
              "  }\n",
              "\n",
              "  .colab-df-quickchart:hover {\n",
              "    background-color: var(--hover-bg-color);\n",
              "    box-shadow: 0 1px 2px rgba(60, 64, 67, 0.3), 0 1px 3px 1px rgba(60, 64, 67, 0.15);\n",
              "    fill: var(--button-hover-fill-color);\n",
              "  }\n",
              "\n",
              "  .colab-df-quickchart-complete:disabled,\n",
              "  .colab-df-quickchart-complete:disabled:hover {\n",
              "    background-color: var(--disabled-bg-color);\n",
              "    fill: var(--disabled-fill-color);\n",
              "    box-shadow: none;\n",
              "  }\n",
              "\n",
              "  .colab-df-spinner {\n",
              "    border: 2px solid var(--fill-color);\n",
              "    border-color: transparent;\n",
              "    border-bottom-color: var(--fill-color);\n",
              "    animation:\n",
              "      spin 1s steps(1) infinite;\n",
              "  }\n",
              "\n",
              "  @keyframes spin {\n",
              "    0% {\n",
              "      border-color: transparent;\n",
              "      border-bottom-color: var(--fill-color);\n",
              "      border-left-color: var(--fill-color);\n",
              "    }\n",
              "    20% {\n",
              "      border-color: transparent;\n",
              "      border-left-color: var(--fill-color);\n",
              "      border-top-color: var(--fill-color);\n",
              "    }\n",
              "    30% {\n",
              "      border-color: transparent;\n",
              "      border-left-color: var(--fill-color);\n",
              "      border-top-color: var(--fill-color);\n",
              "      border-right-color: var(--fill-color);\n",
              "    }\n",
              "    40% {\n",
              "      border-color: transparent;\n",
              "      border-right-color: var(--fill-color);\n",
              "      border-top-color: var(--fill-color);\n",
              "    }\n",
              "    60% {\n",
              "      border-color: transparent;\n",
              "      border-right-color: var(--fill-color);\n",
              "    }\n",
              "    80% {\n",
              "      border-color: transparent;\n",
              "      border-right-color: var(--fill-color);\n",
              "      border-bottom-color: var(--fill-color);\n",
              "    }\n",
              "    90% {\n",
              "      border-color: transparent;\n",
              "      border-bottom-color: var(--fill-color);\n",
              "    }\n",
              "  }\n",
              "</style>\n",
              "\n",
              "  <script>\n",
              "    async function quickchart(key) {\n",
              "      const quickchartButtonEl =\n",
              "        document.querySelector('#' + key + ' button');\n",
              "      quickchartButtonEl.disabled = true;  // To prevent multiple clicks.\n",
              "      quickchartButtonEl.classList.add('colab-df-spinner');\n",
              "      try {\n",
              "        const charts = await google.colab.kernel.invokeFunction(\n",
              "            'suggestCharts', [key], {});\n",
              "      } catch (error) {\n",
              "        console.error('Error during call to suggestCharts:', error);\n",
              "      }\n",
              "      quickchartButtonEl.classList.remove('colab-df-spinner');\n",
              "      quickchartButtonEl.classList.add('colab-df-quickchart-complete');\n",
              "    }\n",
              "    (() => {\n",
              "      let quickchartButtonEl =\n",
              "        document.querySelector('#df-b8991da3-c62f-4a16-a3b7-2f7d148318a4 button');\n",
              "      quickchartButtonEl.style.display =\n",
              "        google.colab.kernel.accessAllowed ? 'block' : 'none';\n",
              "    })();\n",
              "  </script>\n",
              "</div>\n",
              "    </div>\n",
              "  </div>\n"
            ],
            "application/vnd.google.colaboratory.intrinsic+json": {
              "type": "dataframe",
              "variable_name": "pivot_table",
              "summary": "{\n  \"name\": \"pivot_table\",\n  \"rows\": 10,\n  \"fields\": [\n    {\n      \"column\": \"CASH_IN\",\n      \"properties\": {\n        \"dtype\": \"number\",\n        \"std\": 0,\n        \"min\": 0,\n        \"max\": 0,\n        \"num_unique_values\": 1,\n        \"samples\": [\n          0\n        ],\n        \"semantic_type\": \"\",\n        \"description\": \"\"\n      }\n    },\n    {\n      \"column\": \"CASH_OUT\",\n      \"properties\": {\n        \"dtype\": \"number\",\n        \"std\": 2,\n        \"min\": 2,\n        \"max\": 11,\n        \"num_unique_values\": 7,\n        \"samples\": [\n          9\n        ],\n        \"semantic_type\": \"\",\n        \"description\": \"\"\n      }\n    },\n    {\n      \"column\": \"DEBIT\",\n      \"properties\": {\n        \"dtype\": \"number\",\n        \"std\": 0,\n        \"min\": 0,\n        \"max\": 0,\n        \"num_unique_values\": 1,\n        \"samples\": [\n          0\n        ],\n        \"semantic_type\": \"\",\n        \"description\": \"\"\n      }\n    },\n    {\n      \"column\": \"PAYMENT\",\n      \"properties\": {\n        \"dtype\": \"number\",\n        \"std\": 0,\n        \"min\": 0,\n        \"max\": 0,\n        \"num_unique_values\": 1,\n        \"samples\": [\n          0\n        ],\n        \"semantic_type\": \"\",\n        \"description\": \"\"\n      }\n    },\n    {\n      \"column\": \"TRANSFER\",\n      \"properties\": {\n        \"dtype\": \"number\",\n        \"std\": 2,\n        \"min\": 2,\n        \"max\": 11,\n        \"num_unique_values\": 8,\n        \"samples\": [\n          4\n        ],\n        \"semantic_type\": \"\",\n        \"description\": \"\"\n      }\n    }\n  ]\n}"
            }
          },
          "metadata": {},
          "execution_count": 64
        }
      ]
    },
    {
      "cell_type": "code",
      "source": [
        "# Visualisasinya\n",
        "\n",
        "plt.figure(figsize=(12, 8))\n",
        "sns.heatmap(pivot_table, cmap='YlGnBu', annot=True, fmt='g')\n",
        "plt.title('Jumlah transaksi yang terindikasi Fraud berdasarkan Tipe Transaksi dan Waktunya')\n",
        "plt.xlabel('Type Transaksi')\n",
        "plt.ylabel('Step (jam)')\n",
        "plt.show()"
      ],
      "metadata": {
        "colab": {
          "base_uri": "https://localhost:8080/",
          "height": 718
        },
        "id": "Xd5_jWUQGOOk",
        "outputId": "c9dd3b59-1a1f-4f9d-dc2a-f8f6a4c29b81"
      },
      "execution_count": null,
      "outputs": [
        {
          "output_type": "display_data",
          "data": {
            "text/plain": [
              "<Figure size 1200x800 with 2 Axes>"
            ],
            "image/png": "[encoded data removed]"
          },
          "metadata": {}
        }
      ]
    },
    {
      "cell_type": "markdown",
      "source": [
        "#### Transaksi yang terindikasi Fraud tertinggi terjadi pada transaksi cash-out dan transfer dengan dengan waktu di jam ke-6"
      ],
      "metadata": {
        "id": "1Y0HbOxCRrHh"
      }
    },
    {
      "cell_type": "code",
      "source": [
        "# Menampilkan frekuensi nilai unik untuk kolom 'amount'\n",
        "\n",
        "print(f\"\\nFrekuensi nilai unik untuk {'amount'}:\\n{df['amount'].value_counts()}\")"
      ],
      "metadata": {
        "colab": {
          "base_uri": "https://localhost:8080/"
        },
        "id": "v8iDFtWjZzlH",
        "outputId": "45cf2396-270f-42a5-c24b-80282a59e23c"
      },
      "execution_count": null,
      "outputs": [
        {
          "output_type": "stream",
          "name": "stdout",
          "text": [
            "\n",
            "Frekuensi nilai unik untuk amount:\n",
            "2475.13      3\n",
            "6285.19      3\n",
            "25975.86     3\n",
            "89631.24     3\n",
            "17320.91     3\n",
            "            ..\n",
            "3079.21      1\n",
            "11902.12     1\n",
            "189488.41    1\n",
            "153406.42    1\n",
            "469539.21    1\n",
            "Name: amount, Length: 101069, dtype: int64\n"
          ]
        }
      ]
    },
    {
      "cell_type": "code",
      "source": [
        "# Visualisasi kolom 'amount' berdasarkan kolom 'type' dan 'isFraud'\n",
        "\n",
        "plt.figure(figsize=(10, 6))\n",
        "sns.barplot(x=\"type\", y=\"amount\", hue=\"isFraud\", data=df, ci=None)\n",
        "plt.title('Jumlah Transaksi Terindikasi Fraud Berdasarkan Tipe Transaksi dan Nominal Transaksi')\n",
        "plt.xlabel('Type')\n",
        "plt.ylabel('Amount')\n",
        "plt.show()"
      ],
      "metadata": {
        "colab": {
          "base_uri": "https://localhost:8080/",
          "height": 651
        },
        "id": "b5It83SSqNvF",
        "outputId": "651dbbf8-9ac5-4f07-8f6d-cc1989374722"
      },
      "execution_count": null,
      "outputs": [
        {
          "output_type": "stream",
          "name": "stderr",
          "text": [
            "<ipython-input-67-351e897e9847>:4: FutureWarning: \n",
            "\n",
            "The `ci` parameter is deprecated. Use `errorbar=None` for the same effect.\n",
            "\n",
            "  sns.barplot(x=\"type\", y=\"amount\", hue=\"isFraud\", data=df, ci=None)\n"
          ]
        },
        {
          "output_type": "display_data",
          "data": {
            "text/plain": [
              "<Figure size 1000x600 with 1 Axes>"
            ],
            "image/png": "[encoded data removed]"
          },
          "metadata": {}
        }
      ]
    },
    {
      "cell_type": "markdown",
      "source": [
        "### Transaksi yg terindikasi Fraud bertipe Transfer dan Cash-out dengan nominal transaksi dibawah 600000"
      ],
      "metadata": {
        "id": "h-L5ZLBkqacG"
      }
    },
    {
      "cell_type": "code",
      "source": [
        "# Visualisasi kolom 'amount' berdasarkan kolom 'step' dan 'isFraud'\n",
        "\n",
        "plt.figure(figsize=(10, 6))\n",
        "sns.barplot(x=\"step\", y=\"amount\", hue=\"isFraud\", data=df, ci=None)\n",
        "plt.title('Jumlah Transaksi terindikasi Fraud berdasarkan Step Transaksi dan Nominal Transaksi')\n",
        "plt.xlabel('Step')\n",
        "plt.ylabel('Amount')\n",
        "plt.show()"
      ],
      "metadata": {
        "colab": {
          "base_uri": "https://localhost:8080/",
          "height": 651
        },
        "id": "bnu6EufcqYsR",
        "outputId": "6f6fba67-a1e3-42ce-f937-bec966071f88"
      },
      "execution_count": null,
      "outputs": [
        {
          "output_type": "stream",
          "name": "stderr",
          "text": [
            "<ipython-input-68-bbc032202dad>:4: FutureWarning: \n",
            "\n",
            "The `ci` parameter is deprecated. Use `errorbar=None` for the same effect.\n",
            "\n",
            "  sns.barplot(x=\"step\", y=\"amount\", hue=\"isFraud\", data=df, ci=None)\n"
          ]
        },
        {
          "output_type": "display_data",
          "data": {
            "text/plain": [
              "<Figure size 1000x600 with 1 Axes>"
            ],
            "image/png": "[encoded data removed]"
          },
          "metadata": {}
        }
      ]
    },
    {
      "cell_type": "markdown",
      "source": [
        "#### Transaksi yg terindikasi Fraud tertinggi yaitu transaksi pada step (jam) ke-4 dengan nilai transaksi diatas 2500000"
      ],
      "metadata": {
        "id": "TH8F1ZsnrlO-"
      }
    },
    {
      "cell_type": "code",
      "source": [
        "# Menampilkan frekuensi nilai unik untuk kolom 'nameOrig' dan 'nameDest'\n",
        "\n",
        "print(f\"\\nFrekuensi nilai unik untuk {'nameOrig'}:\\n{df['nameOrig'].value_counts()}\")\n",
        "print(f\"\\nFrekuensi nilai unik untuk {'nameDest'}:\\n{df['nameDest'].value_counts()}\")"
      ],
      "metadata": {
        "colab": {
          "base_uri": "https://localhost:8080/"
        },
        "id": "ZVC41cLgTjE3",
        "outputId": "2c03f4a0-6bf8-471e-9f9d-fd9e79cc3ded"
      },
      "execution_count": null,
      "outputs": [
        {
          "output_type": "stream",
          "name": "stdout",
          "text": [
            "\n",
            "Frekuensi nilai unik untuk nameOrig:\n",
            "C1231006815    1\n",
            "C358333738     1\n",
            "C917141406     1\n",
            "C1797964264    1\n",
            "C59265825      1\n",
            "              ..\n",
            "C1647349751    1\n",
            "C843142567     1\n",
            "C1860747846    1\n",
            "C754172061     1\n",
            "C515691325     1\n",
            "Name: nameOrig, Length: 101613, dtype: int64\n",
            "\n",
            "Frekuensi nilai unik untuk nameDest:\n",
            "C985934102     78\n",
            "C1286084959    72\n",
            "C248609774     71\n",
            "C1590550415    70\n",
            "C2083562754    66\n",
            "               ..\n",
            "M1555760964     1\n",
            "M338533290      1\n",
            "M1786033562     1\n",
            "M1947241909     1\n",
            "M334249577      1\n",
            "Name: nameDest, Length: 52280, dtype: int64\n"
          ]
        }
      ]
    },
    {
      "cell_type": "code",
      "source": [
        "# Eksplorasi distribusi nilai nameOrig\n",
        "print(df['nameOrig'].describe())\n",
        "\n",
        "# Eksplorasi distribusi nilai nameDest\n",
        "print(df['nameDest'].describe())"
      ],
      "metadata": {
        "colab": {
          "base_uri": "https://localhost:8080/"
        },
        "id": "Yy48LrRf6Isv",
        "outputId": "e76a847b-3072-47e2-ed13-74afc0732a35"
      },
      "execution_count": null,
      "outputs": [
        {
          "output_type": "stream",
          "name": "stdout",
          "text": [
            "count          101613\n",
            "unique         101613\n",
            "top       C1231006815\n",
            "freq                1\n",
            "Name: nameOrig, dtype: object\n",
            "count         101613\n",
            "unique         52280\n",
            "top       C985934102\n",
            "freq              78\n",
            "Name: nameDest, dtype: object\n"
          ]
        }
      ]
    },
    {
      "cell_type": "markdown",
      "source": [
        "#### Setiap nama akun pemilik/pengirim transaksi hanya muncul sekali terliha tidak ada nama pemiliki akun yg lebih aktif dari pemilik akun yang lain.\n",
        "#### Untuk nama akun penerima ada beberapa yg muncul lebih dari satu kali, nama akun 'C985934102' muncul sebanyak 78 kali, akan kita lihat hubungannya dengan variabel target isFraud."
      ],
      "metadata": {
        "id": "Nt2uNIgJDTGj"
      }
    },
    {
      "cell_type": "code",
      "source": [
        "# Visualisasi hubungan nama akun penerima yg paling sering muncul dengan 'isFraud'\n",
        "\n",
        "plt.figure(figsize=(8, 6))\n",
        "sns.countplot(x='nameDest', hue='isFraud', data=df[df['nameDest'].isin(['C985934102', 'C1286084959', 'C248609774', 'C1590550415', 'C2083562754'])])\n",
        "plt.show()"
      ],
      "metadata": {
        "colab": {
          "base_uri": "https://localhost:8080/",
          "height": 542
        },
        "id": "XoYBfnK9CdCS",
        "outputId": "aa79cde0-8760-4b62-9851-f3f62592cdc4"
      },
      "execution_count": null,
      "outputs": [
        {
          "output_type": "display_data",
          "data": {
            "text/plain": [
              "<Figure size 800x600 with 1 Axes>"
            ],
            "image/png": "[encoded data removed]"
          },
          "metadata": {}
        }
      ]
    },
    {
      "cell_type": "markdown",
      "source": [
        "#### Untuk nama akun penerima yg muncul lebih dari satu kali dengan frekuensi tertinggi semuanya tidak terindikasi pada transaksi Fraud."
      ],
      "metadata": {
        "id": "dwHQxSfNT7UR"
      }
    },
    {
      "cell_type": "markdown",
      "source": [
        "#### Jadi kesimpulannya nama akun pemilik/pengirim dan nama akun penerima akan dihapus karena hanya berfungsi sebagai identifikasi nama akun dan tidak memberi informasi yang relevan terhadap deteksi transaksi yg terindikasi Fraud.\n",
        "\n",
        "\n",
        "\n"
      ],
      "metadata": {
        "id": "835i4yxwE3Oz"
      }
    },
    {
      "cell_type": "code",
      "source": [
        "fraud_stats = df[df['isFraud'] == 1][['oldbalanceOrg', 'newbalanceOrig']].mean()\n",
        "non_fraud_stats = df[df['isFraud'] == 0][['oldbalanceOrg', 'newbalanceOrig']].mean()\n",
        "\n",
        "print('Fraud Statistics:')\n",
        "print(fraud_stats)\n",
        "\n",
        "print('\\nNon-Fraud Statistics:')\n",
        "print(non_fraud_stats)"
      ],
      "metadata": {
        "colab": {
          "base_uri": "https://localhost:8080/"
        },
        "id": "Wiej3Grd_3Cv",
        "outputId": "a2f02ca7-34ed-4cde-c17b-39602eed2cdd"
      },
      "execution_count": null,
      "outputs": [
        {
          "output_type": "stream",
          "name": "stdout",
          "text": [
            "Fraud Statistics:\n",
            "oldbalanceOrg     552710.135086\n",
            "newbalanceOrig     29080.483707\n",
            "dtype: float64\n",
            "\n",
            "Non-Fraud Statistics:\n",
            "oldbalanceOrg     907580.371543\n",
            "newbalanceOrig    924521.470543\n",
            "dtype: float64\n"
          ]
        }
      ]
    },
    {
      "cell_type": "code",
      "source": [
        "# Statistik Fraud\n",
        "fraud_stats = {\n",
        "    'oldbalanceOrg': [552710.135086],\n",
        "    'newbalanceOrig': [29080.483707]\n",
        "}\n",
        "\n",
        "# Statistik Non-Fraud\n",
        "non_fraud_stats = {\n",
        "    'oldbalanceOrg': [907580.371543],\n",
        "    'newbalanceOrig': [924521.470543]\n",
        "}\n",
        "\n",
        "# Menyiapkan data untuk plot\n",
        "categories = list(fraud_stats.keys())\n",
        "fraud_mean = fraud_stats['oldbalanceOrg'] + fraud_stats['newbalanceOrig']\n",
        "non_fraud_mean = non_fraud_stats['oldbalanceOrg'] + non_fraud_stats['newbalanceOrig']\n",
        "\n",
        "# Menyiapkan plot\n",
        "barWidth = 0.35\n",
        "r1 = range(len(categories))\n",
        "r2 = [x + barWidth for x in r1]\n",
        "\n",
        "# Membuat plot\n",
        "plt.bar(r1, fraud_mean, color='red', width=barWidth, edgecolor='grey', label='Fraud')\n",
        "plt.bar(r2, non_fraud_mean, color='blue', width=barWidth, edgecolor='grey', label='Non-Fraud')\n",
        "\n",
        "# Menambahkan label dan judul\n",
        "plt.xlabel('Variables', fontsize=11)\n",
        "plt.xticks([r + barWidth/2 for r in range(len(categories))], categories)\n",
        "plt.ylabel('Nilai Rata-rata', fontsize=11)\n",
        "plt.title('Rata-rata oldbalanceOrg dan newbalanceOrig yang Terindikasi Fraud atau Tidak', fontsize=11)\n",
        "plt.legend()\n",
        "plt.show()"
      ],
      "metadata": {
        "colab": {
          "base_uri": "https://localhost:8080/",
          "height": 471
        },
        "id": "MBMRx6iYCzZj",
        "outputId": "4de60fb5-0bae-4295-ede4-30ed4e13b550"
      },
      "execution_count": null,
      "outputs": [
        {
          "output_type": "display_data",
          "data": {
            "text/plain": [
              "<Figure size 640x480 with 1 Axes>"
            ],
            "image/png": "[encoded data removed]"
          },
          "metadata": {}
        }
      ]
    },
    {
      "cell_type": "markdown",
      "source": [
        "#### Rata-rata saldo awal pemilik/pengirim yg terindikasi Fraud lebih tinggi dibangdingkan dengan saldo akhir -nya."
      ],
      "metadata": {
        "id": "8faDzRXFDMNW"
      }
    },
    {
      "cell_type": "code",
      "source": [
        "fraud_stats = df[df['isFraud'] == 1][['oldbalanceDest', 'newbalanceOrig']].mean()\n",
        "non_fraud_stats = df[df['isFraud'] == 0][['oldbalanceDest', 'newbalanceOrig']].mean()\n",
        "\n",
        "print('Fraud Statistics:')\n",
        "print(fraud_stats)\n",
        "\n",
        "print('\\nNon-Fraud Statistics:')\n",
        "print(non_fraud_stats)"
      ],
      "metadata": {
        "colab": {
          "base_uri": "https://localhost:8080/"
        },
        "id": "DdxWYxL1fW3W",
        "outputId": "73f7967d-84e4-476c-d0b4-0088621e5023"
      },
      "execution_count": null,
      "outputs": [
        {
          "output_type": "stream",
          "name": "stdout",
          "text": [
            "Fraud Statistics:\n",
            "oldbalanceDest    227348.217328\n",
            "newbalanceOrig     29080.483707\n",
            "dtype: float64\n",
            "\n",
            "Non-Fraud Statistics:\n",
            "oldbalanceDest    881789.899031\n",
            "newbalanceOrig    924521.470543\n",
            "dtype: float64\n"
          ]
        }
      ]
    },
    {
      "cell_type": "code",
      "source": [
        "# Statistik Fraud\n",
        "fraud_stats = {\n",
        "    'oldbalanceDest': [227348.217328],\n",
        "    'newbalanceDest': [29080.483707]\n",
        "}\n",
        "\n",
        "# Statistik Non-Fraud\n",
        "non_fraud_stats = {\n",
        "    'oldbalanceDest': [881789.899031],\n",
        "    'newbalanceDest': [924521.470543]\n",
        "}\n",
        "\n",
        "# Menyiapkan data untuk plot\n",
        "categories = list(fraud_stats.keys())\n",
        "fraud_mean = fraud_stats['oldbalanceDest'] + fraud_stats['newbalanceDest']\n",
        "non_fraud_mean = non_fraud_stats['oldbalanceDest'] + non_fraud_stats['newbalanceDest']\n",
        "\n",
        "# Menyiapkan plot\n",
        "barWidth = 0.35\n",
        "r1 = range(len(categories))\n",
        "r2 = [x + barWidth for x in r1]\n",
        "\n",
        "# Membuat plot\n",
        "plt.bar(r1, fraud_mean, color='red', width=barWidth, edgecolor='grey', label='Fraud')\n",
        "plt.bar(r2, non_fraud_mean, color='blue', width=barWidth, edgecolor='grey', label='Non-Fraud')\n",
        "\n",
        "# Menambahkan label dan judul\n",
        "plt.xlabel('Variables', fontsize=11)\n",
        "plt.xticks([r + barWidth/2 for r in range(len(categories))], categories)\n",
        "plt.ylabel('Nilai Rata-rata', fontsize=11)\n",
        "plt.title('Rata-rata oldbalanceDest dan newbalanceDest yang Terindikasi Fraud atau Tidak', fontsize=11)\n",
        "plt.legend()\n",
        "\n",
        "# Menampilkan plot\n",
        "plt.show()"
      ],
      "metadata": {
        "colab": {
          "base_uri": "https://localhost:8080/",
          "height": 471
        },
        "id": "REy9v5rIfWsF",
        "outputId": "1aadebe7-b7e5-4938-9313-936cff8d5709"
      },
      "execution_count": null,
      "outputs": [
        {
          "output_type": "display_data",
          "data": {
            "text/plain": [
              "<Figure size 640x480 with 1 Axes>"
            ],
            "image/png": "[encoded data removed]"
          },
          "metadata": {}
        }
      ]
    },
    {
      "cell_type": "markdown",
      "source": [
        "#### Rata-rata saldo awal penerima terindikasi transaksi Fraud lebih tinggi dibangdingkan dengan saldo akhir -nya."
      ],
      "metadata": {
        "id": "6FuouOgaiEE7"
      }
    },
    {
      "cell_type": "code",
      "source": [
        "# Menampilkan frekuensi nilai unik untuk Target Variabel 'isFraud'\n",
        "\n",
        "print(f\"\\nFrekuensi nilai unik untuk {'isFraud'}:\\n{df['isFraud'].value_counts()}\")"
      ],
      "metadata": {
        "colab": {
          "base_uri": "https://localhost:8080/"
        },
        "id": "_111k_16fWh9",
        "outputId": "819175ae-416e-4a00-b56e-ce8be3e16b0f"
      },
      "execution_count": null,
      "outputs": [
        {
          "output_type": "stream",
          "name": "stdout",
          "text": [
            "\n",
            "Frekuensi nilai unik untuk isFraud:\n",
            "0    101497\n",
            "1       116\n",
            "Name: isFraud, dtype: int64\n"
          ]
        }
      ]
    },
    {
      "cell_type": "code",
      "source": [
        "# Distribusi variabel target 'isFraud'\n",
        "\n",
        "print(df['isFraud'].value_counts())\n",
        "\n",
        "pie, ax = plt.subplots(figsize=[10, 6])\n",
        "labels = ['Non-fraud', 'Fraud']\n",
        "colors = ['lime', 'red']\n",
        "explode = [0.1, 0.1]  # Adjust the explode values to control chart size\n",
        "wedges, texts, autotexts = plt.pie(x=df['isFraud'].value_counts(), autopct='%.2f%%', explode=explode, labels=labels,\n",
        "                                   pctdistance=0.5, textprops={'fontsize': 14}, colors=colors)\n",
        "\n",
        "plt.title('Distribusi Variabel Target')\n",
        "\n",
        "# Add legend\n",
        "plt.legend(labels, loc=\"upper left\", fontsize='medium')\n",
        "\n",
        "# Add numeric values and percentages inside each slice\n",
        "for i, (text, autotext) in enumerate(zip(texts, autotexts)):\n",
        "    text.set_text(f'{labels[i]}: {df[\"isFraud\"].value_counts()[i]}')\n",
        "    autotext.set_text(f'{df[\"isFraud\"].value_counts(normalize=True)[i]*100:.2f}%')\n",
        "\n",
        "plt.show()"
      ],
      "metadata": {
        "colab": {
          "base_uri": "https://localhost:8080/",
          "height": 573
        },
        "id": "qzvhn8ZljeO5",
        "outputId": "c3d77220-e8c2-49ff-80a1-92da2a143ede"
      },
      "execution_count": null,
      "outputs": [
        {
          "output_type": "stream",
          "name": "stdout",
          "text": [
            "0    101497\n",
            "1       116\n",
            "Name: isFraud, dtype: int64\n"
          ]
        },
        {
          "output_type": "display_data",
          "data": {
            "text/plain": [
              "<Figure size 1000x600 with 1 Axes>"
            ],
            "image/png": "[encoded data removed]"
          },
          "metadata": {}
        }
      ]
    },
    {
      "cell_type": "markdown",
      "source": [
        "#### Target variabel sangat tidak seimbang (imbalance) antara kelas non-Fraud dan Fraud, pada kasus ini  metrik evaluasi yg digunakan yaitu F1-score, karena F1-score memberikan gambaran yang lebih baik tentang kinerja model di tengah ketidakseimbangan, disamping itu F1-score mengambil nilai rata-rata dari Precision dan Recall, dan juga F1-score dapat mengidentifikasi model yang baik secara keseluruhan dalam menangani False Positives dan False Negatives."
      ],
      "metadata": {
        "id": "sewwJ4HKmlo_"
      }
    },
    {
      "cell_type": "code",
      "source": [
        "# Menampilkan frekuensi nilai unik untuk kolom 'isFlaggedFraud'\n",
        "\n",
        "print(f\"\\nFrekuensi nilai unik untuk {'isFlaggedFraud'}:\\n{df['isFlaggedFraud'].value_counts()}\")"
      ],
      "metadata": {
        "id": "fRaAp090jeHh",
        "colab": {
          "base_uri": "https://localhost:8080/"
        },
        "outputId": "7ec400c3-53b3-4ad3-f9d7-510a6a3db98e"
      },
      "execution_count": null,
      "outputs": [
        {
          "output_type": "stream",
          "name": "stdout",
          "text": [
            "\n",
            "Frekuensi nilai unik untuk isFlaggedFraud:\n",
            "0    101613\n",
            "Name: isFlaggedFraud, dtype: int64\n"
          ]
        }
      ]
    },
    {
      "cell_type": "code",
      "source": [
        "# Visualisasinya\n",
        "\n",
        "# Data\n",
        "values = [101613]\n",
        "labels = ['0']\n",
        "\n",
        "plt.bar(labels, values, color='yellow')\n",
        "plt.title('Frekuensi Nilai Unik isFlaggedFraud')\n",
        "plt.xlabel('Nilai isFlaggedFraud')\n",
        "plt.ylabel('Frekuensi')\n",
        "plt.show()"
      ],
      "metadata": {
        "colab": {
          "base_uri": "https://localhost:8080/",
          "height": 472
        },
        "id": "VNLbu4ThH4LR",
        "outputId": "92d18d61-d9a2-4373-bf77-1a18a6691a37"
      },
      "execution_count": null,
      "outputs": [
        {
          "output_type": "display_data",
          "data": {
            "text/plain": [
              "<Figure size 640x480 with 1 Axes>"
            ],
            "image/png": "[encoded data removed]"
          },
          "metadata": {}
        }
      ]
    },
    {
      "cell_type": "markdown",
      "source": [
        "#### Seluruh data dalam kolom isFlaggedFraud memiliki nilai 0. Ini menunjukkan bahwa tidak ada transaksi yang dianggap sebagai tindakan penipuan yang dicapai oleh mekanisme penanda (flag) pada kolom ini. Dengan kata lain, semua nilai dalam kolom tersebut adalah 0, sehingga tidak ada transaksi yang secara eksplisit ditandai sebagai tindakan penipuan menggunakan mekanisme ini dalam dataset tersebut"
      ],
      "metadata": {
        "id": "mI9oRQWaHspn"
      }
    },
    {
      "cell_type": "markdown",
      "source": [
        "#### isFlaggedFraud memiliki nilai yang sama (0) untuk semua entri dalam dataset. Jika seluruh kolom memiliki nilai yang sama, maka kolom tersebut tidak akan memberikan kontribusi informasi berharga dalam pembuatan model, dan akan dihapus."
      ],
      "metadata": {
        "id": "MHO3DFA9NJD3"
      }
    },
    {
      "cell_type": "code",
      "source": [
        "# Korelasi antar variabel\n",
        "\n",
        "correlation_matrix = df.corr()\n",
        "plt.figure(figsize=(10, 8))\n",
        "sns.heatmap(correlation_matrix, annot=True, cmap='coolwarm', fmt='.2f', linewidths=0.5)\n",
        "plt.title('Melihat Korelasi Antar Variabel')\n",
        "plt.show()"
      ],
      "metadata": {
        "id": "TK_tpCv9BVcY",
        "colab": {
          "base_uri": "https://localhost:8080/",
          "height": 855
        },
        "outputId": "8644a443-37f8-4dca-c79e-479a69f68e53"
      },
      "execution_count": null,
      "outputs": [
        {
          "output_type": "stream",
          "name": "stderr",
          "text": [
            "<ipython-input-80-23f3e324bc6e>:3: FutureWarning: The default value of numeric_only in DataFrame.corr is deprecated. In a future version, it will default to False. Select only valid columns or specify the value of numeric_only to silence this warning.\n",
            "  correlation_matrix = df.corr()\n"
          ]
        },
        {
          "output_type": "display_data",
          "data": {
            "text/plain": [
              "<Figure size 1000x800 with 2 Axes>"
            ],
            "image/png": "[encoded data removed]"
          },
          "metadata": {}
        }
      ]
    },
    {
      "cell_type": "markdown",
      "source": [
        "#### Ada 2 pasang feature yg memiliki korelasi tinggi yaitu Saldo Awal - Saldo Akhir akun Pengirim dan Saldo Awal - Saldo Akhir akun penerima, features ini tetap dipertahankan karena memberikan informasi yg berguna diantaranya melihat konsistensi dari suatu transaksi keuangan, jika saldo awal dan akhir ada perubahan yg signifikan hal tersebut menjadi indikator adanya kejanggalan pada transaksi keuangan dan tentunya adanya potensi transaksi terindikasi Fraud."
      ],
      "metadata": {
        "id": "5x7WarqVdedN"
      }
    },
    {
      "cell_type": "markdown",
      "source": [
        "## Data Preprocessing"
      ],
      "metadata": {
        "id": "rMZmmseffNM-"
      }
    },
    {
      "cell_type": "code",
      "source": [
        "df.info()"
      ],
      "metadata": {
        "colab": {
          "base_uri": "https://localhost:8080/"
        },
        "id": "rFjPrEBCOdCV",
        "outputId": "1e2fd294-069c-4eff-fa91-5e9b324dcb9d"
      },
      "execution_count": null,
      "outputs": [
        {
          "output_type": "stream",
          "name": "stdout",
          "text": [
            "<class 'pandas.core.frame.DataFrame'>\n",
            "RangeIndex: 101613 entries, 0 to 101612\n",
            "Data columns (total 11 columns):\n",
            " #   Column          Non-Null Count   Dtype  \n",
            "---  ------          --------------   -----  \n",
            " 0   step            101613 non-null  int64  \n",
            " 1   type            101613 non-null  object \n",
            " 2   amount          101613 non-null  float64\n",
            " 3   nameOrig        101613 non-null  object \n",
            " 4   oldbalanceOrg   101613 non-null  float64\n",
            " 5   newbalanceOrig  101613 non-null  float64\n",
            " 6   nameDest        101613 non-null  object \n",
            " 7   oldbalanceDest  101613 non-null  float64\n",
            " 8   newbalanceDest  101613 non-null  float64\n",
            " 9   isFraud         101613 non-null  int64  \n",
            " 10  isFlaggedFraud  101613 non-null  int64  \n",
            "dtypes: float64(5), int64(3), object(3)\n",
            "memory usage: 8.5+ MB\n"
          ]
        }
      ]
    },
    {
      "cell_type": "code",
      "source": [
        "# Cek missing values per kolom\n",
        "\n",
        "df.isna().sum()"
      ],
      "metadata": {
        "id": "Ev9HUbJ9BVUZ",
        "colab": {
          "base_uri": "https://localhost:8080/"
        },
        "outputId": "034801d0-26e5-46c4-8b2e-dad53563de4f"
      },
      "execution_count": null,
      "outputs": [
        {
          "output_type": "execute_result",
          "data": {
            "text/plain": [
              "step              0\n",
              "type              0\n",
              "amount            0\n",
              "nameOrig          0\n",
              "oldbalanceOrg     0\n",
              "newbalanceOrig    0\n",
              "nameDest          0\n",
              "oldbalanceDest    0\n",
              "newbalanceDest    0\n",
              "isFraud           0\n",
              "isFlaggedFraud    0\n",
              "dtype: int64"
            ]
          },
          "metadata": {},
          "execution_count": 82
        }
      ]
    },
    {
      "cell_type": "markdown",
      "source": [
        "### Tidak ada missing values"
      ],
      "metadata": {
        "id": "tfOfic1TTR1V"
      }
    },
    {
      "cell_type": "code",
      "source": [
        "# Cek jumlah data duplicate\n",
        "\n",
        "df.duplicated().sum()"
      ],
      "metadata": {
        "id": "EGH0BXGgBVLK",
        "colab": {
          "base_uri": "https://localhost:8080/"
        },
        "outputId": "dcc31722-ff44-40c9-df43-10c79169788d"
      },
      "execution_count": null,
      "outputs": [
        {
          "output_type": "execute_result",
          "data": {
            "text/plain": [
              "0"
            ]
          },
          "metadata": {},
          "execution_count": 83
        }
      ]
    },
    {
      "cell_type": "markdown",
      "source": [
        "### Tidak ada data yg terduplikat"
      ],
      "metadata": {
        "id": "tBt9lYtZTW-H"
      }
    },
    {
      "cell_type": "code",
      "source": [
        "# Menghapus kolom 'nameOrig', dan 'nameDest' dan 'isFlaggedFraud' karena tidak memberikan\n",
        "# informasi yg relevan dalam memprediksi suatu transaksi fraud atau tidak\n",
        "\n",
        "df.drop(columns=[\"nameOrig\"],inplace=True)\n",
        "df.drop(columns=[\"nameDest\"],inplace=True)\n",
        "df.drop(columns=[\"isFlaggedFraud\"],inplace=True)\n"
      ],
      "metadata": {
        "id": "hKDaeGsvB3FI"
      },
      "execution_count": null,
      "outputs": []
    },
    {
      "cell_type": "markdown",
      "source": [
        "#### Nama akun pengirim, nama akun penerima dan penanda fraud dihapus karena hanya berfungsi sebagai identifikasi dan tidak memberi informasi yang relevan terhadap deteksi transaksi yg terindikasi Fraud."
      ],
      "metadata": {
        "id": "FeKQ7sITsD1d"
      }
    },
    {
      "cell_type": "code",
      "source": [
        "df.info()"
      ],
      "metadata": {
        "colab": {
          "base_uri": "https://localhost:8080/"
        },
        "id": "dIeryIjwOTMI",
        "outputId": "9862f3f2-4d29-47b8-cfc7-f3e4b502b41b"
      },
      "execution_count": null,
      "outputs": [
        {
          "output_type": "stream",
          "name": "stdout",
          "text": [
            "<class 'pandas.core.frame.DataFrame'>\n",
            "RangeIndex: 101613 entries, 0 to 101612\n",
            "Data columns (total 8 columns):\n",
            " #   Column          Non-Null Count   Dtype  \n",
            "---  ------          --------------   -----  \n",
            " 0   step            101613 non-null  int64  \n",
            " 1   type            101613 non-null  object \n",
            " 2   amount          101613 non-null  float64\n",
            " 3   oldbalanceOrg   101613 non-null  float64\n",
            " 4   newbalanceOrig  101613 non-null  float64\n",
            " 5   oldbalanceDest  101613 non-null  float64\n",
            " 6   newbalanceDest  101613 non-null  float64\n",
            " 7   isFraud         101613 non-null  int64  \n",
            "dtypes: float64(5), int64(2), object(1)\n",
            "memory usage: 6.2+ MB\n"
          ]
        }
      ]
    },
    {
      "cell_type": "code",
      "source": [
        "# one-hot encoding kolom 'type'\n",
        "\n",
        "df = pd.get_dummies(df, columns=['type'])"
      ],
      "metadata": {
        "id": "0_s7yf_qd6hE"
      },
      "execution_count": null,
      "outputs": []
    },
    {
      "cell_type": "markdown",
      "source": [
        "#### Untuk mengkonversi variabel kategori/kualitatif menjadi representasi numerik (variabel biner) yang dapat digunakan oleh algoritma pembelajaran mesin.\n"
      ],
      "metadata": {
        "id": "Zt5wufRm7uK2"
      }
    },
    {
      "cell_type": "code",
      "source": [
        "df.head()"
      ],
      "metadata": {
        "colab": {
          "base_uri": "https://localhost:8080/",
          "height": 226
        },
        "id": "0ntf6275PWkF",
        "outputId": "b634dbc7-a1d3-480c-c6b4-8be94244b948"
      },
      "execution_count": null,
      "outputs": [
        {
          "output_type": "execute_result",
          "data": {
            "text/plain": [
              "   step    amount  oldbalanceOrg  newbalanceOrig  oldbalanceDest  \\\n",
              "0     1   9839.64       170136.0       160296.36             0.0   \n",
              "1     1   1864.28        21249.0        19384.72             0.0   \n",
              "2     1    181.00          181.0            0.00             0.0   \n",
              "3     1    181.00          181.0            0.00         21182.0   \n",
              "4     1  11668.14        41554.0        29885.86             0.0   \n",
              "\n",
              "   newbalanceDest  isFraud  type_CASH_IN  type_CASH_OUT  type_DEBIT  \\\n",
              "0             0.0        0             0              0           0   \n",
              "1             0.0        0             0              0           0   \n",
              "2             0.0        1             0              0           0   \n",
              "3             0.0        1             0              1           0   \n",
              "4             0.0        0             0              0           0   \n",
              "\n",
              "   type_PAYMENT  type_TRANSFER  \n",
              "0             1              0  \n",
              "1             1              0  \n",
              "2             0              1  \n",
              "3             0              0  \n",
              "4             1              0  "
            ],
            "text/html": [
              "\n",
              "  <div id=\"df-e6112a4a-9c24-4787-8a92-6df90750e2d9\" class=\"colab-df-container\">\n",
              "    <div>\n",
              "<style scoped>\n",
              "    .dataframe tbody tr th:only-of-type {\n",
              "        vertical-align: middle;\n",
              "    }\n",
              "\n",
              "    .dataframe tbody tr th {\n",
              "        vertical-align: top;\n",
              "    }\n",
              "\n",
              "    .dataframe thead th {\n",
              "        text-align: right;\n",
              "    }\n",
              "</style>\n",
              "<table border=\"1\" class=\"dataframe\">\n",
              "  <thead>\n",
              "    <tr style=\"text-align: right;\">\n",
              "      <th></th>\n",
              "      <th>step</th>\n",
              "      <th>amount</th>\n",
              "      <th>oldbalanceOrg</th>\n",
              "      <th>newbalanceOrig</th>\n",
              "      <th>oldbalanceDest</th>\n",
              "      <th>newbalanceDest</th>\n",
              "      <th>isFraud</th>\n",
              "      <th>type_CASH_IN</th>\n",
              "      <th>type_CASH_OUT</th>\n",
              "      <th>type_DEBIT</th>\n",
              "      <th>type_PAYMENT</th>\n",
              "      <th>type_TRANSFER</th>\n",
              "    </tr>\n",
              "  </thead>\n",
              "  <tbody>\n",
              "    <tr>\n",
              "      <th>0</th>\n",
              "      <td>1</td>\n",
              "      <td>9839.64</td>\n",
              "      <td>170136.0</td>\n",
              "      <td>160296.36</td>\n",
              "      <td>0.0</td>\n",
              "      <td>0.0</td>\n",
              "      <td>0</td>\n",
              "      <td>0</td>\n",
              "      <td>0</td>\n",
              "      <td>0</td>\n",
              "      <td>1</td>\n",
              "      <td>0</td>\n",
              "    </tr>\n",
              "    <tr>\n",
              "      <th>1</th>\n",
              "      <td>1</td>\n",
              "      <td>1864.28</td>\n",
              "      <td>21249.0</td>\n",
              "      <td>19384.72</td>\n",
              "      <td>0.0</td>\n",
              "      <td>0.0</td>\n",
              "      <td>0</td>\n",
              "      <td>0</td>\n",
              "      <td>0</td>\n",
              "      <td>0</td>\n",
              "      <td>1</td>\n",
              "      <td>0</td>\n",
              "    </tr>\n",
              "    <tr>\n",
              "      <th>2</th>\n",
              "      <td>1</td>\n",
              "      <td>181.00</td>\n",
              "      <td>181.0</td>\n",
              "      <td>0.00</td>\n",
              "      <td>0.0</td>\n",
              "      <td>0.0</td>\n",
              "      <td>1</td>\n",
              "      <td>0</td>\n",
              "      <td>0</td>\n",
              "      <td>0</td>\n",
              "      <td>0</td>\n",
              "      <td>1</td>\n",
              "    </tr>\n",
              "    <tr>\n",
              "      <th>3</th>\n",
              "      <td>1</td>\n",
              "      <td>181.00</td>\n",
              "      <td>181.0</td>\n",
              "      <td>0.00</td>\n",
              "      <td>21182.0</td>\n",
              "      <td>0.0</td>\n",
              "      <td>1</td>\n",
              "      <td>0</td>\n",
              "      <td>1</td>\n",
              "      <td>0</td>\n",
              "      <td>0</td>\n",
              "      <td>0</td>\n",
              "    </tr>\n",
              "    <tr>\n",
              "      <th>4</th>\n",
              "      <td>1</td>\n",
              "      <td>11668.14</td>\n",
              "      <td>41554.0</td>\n",
              "      <td>29885.86</td>\n",
              "      <td>0.0</td>\n",
              "      <td>0.0</td>\n",
              "      <td>0</td>\n",
              "      <td>0</td>\n",
              "      <td>0</td>\n",
              "      <td>0</td>\n",
              "      <td>1</td>\n",
              "      <td>0</td>\n",
              "    </tr>\n",
              "  </tbody>\n",
              "</table>\n",
              "</div>\n",
              "    <div class=\"colab-df-buttons\">\n",
              "\n",
              "  <div class=\"colab-df-container\">\n",
              "    <button class=\"colab-df-convert\" onclick=\"convertToInteractive('df-e6112a4a-9c24-4787-8a92-6df90750e2d9')\"\n",
              "            title=\"Convert this dataframe to an interactive table.\"\n",
              "            style=\"display:none;\">\n",
              "\n",
              "  <svg xmlns=\"http://www.w3.org/2000/svg\" height=\"24px\" viewBox=\"0 -960 960 960\">\n",
              "    <path d=\"M120-120v-720h720v720H120Zm60-500h600v-160H180v160Zm220 220h160v-160H400v160Zm0 220h160v-160H400v160ZM180-400h160v-160H180v160Zm440 0h160v-160H620v160ZM180-180h160v-160H180v160Zm440 0h160v-160H620v160Z\"/>\n",
              "  </svg>\n",
              "    </button>\n",
              "\n",
              "  <style>\n",
              "    .colab-df-container {\n",
              "      display:flex;\n",
              "      gap: 12px;\n",
              "    }\n",
              "\n",
              "    .colab-df-convert {\n",
              "      background-color: #E8F0FE;\n",
              "      border: none;\n",
              "      border-radius: 50%;\n",
              "      cursor: pointer;\n",
              "      display: none;\n",
              "      fill: #1967D2;\n",
              "      height: 32px;\n",
              "      padding: 0 0 0 0;\n",
              "      width: 32px;\n",
              "    }\n",
              "\n",
              "    .colab-df-convert:hover {\n",
              "      background-color: #E2EBFA;\n",
              "      box-shadow: 0px 1px 2px rgba(60, 64, 67, 0.3), 0px 1px 3px 1px rgba(60, 64, 67, 0.15);\n",
              "      fill: #174EA6;\n",
              "    }\n",
              "\n",
              "    .colab-df-buttons div {\n",
              "      margin-bottom: 4px;\n",
              "    }\n",
              "\n",
              "    [theme=dark] .colab-df-convert {\n",
              "      background-color: #3B4455;\n",
              "      fill: #D2E3FC;\n",
              "    }\n",
              "\n",
              "    [theme=dark] .colab-df-convert:hover {\n",
              "      background-color: #434B5C;\n",
              "      box-shadow: 0px 1px 3px 1px rgba(0, 0, 0, 0.15);\n",
              "      filter: drop-shadow(0px 1px 2px rgba(0, 0, 0, 0.3));\n",
              "      fill: #FFFFFF;\n",
              "    }\n",
              "  </style>\n",
              "\n",
              "    <script>\n",
              "      const buttonEl =\n",
              "        document.querySelector('#df-e6112a4a-9c24-4787-8a92-6df90750e2d9 button.colab-df-convert');\n",
              "      buttonEl.style.display =\n",
              "        google.colab.kernel.accessAllowed ? 'block' : 'none';\n",
              "\n",
              "      async function convertToInteractive(key) {\n",
              "        const element = document.querySelector('#df-e6112a4a-9c24-4787-8a92-6df90750e2d9');\n",
              "        const dataTable =\n",
              "          await google.colab.kernel.invokeFunction('convertToInteractive',\n",
              "                                                    [key], {});\n",
              "        if (!dataTable) return;\n",
              "\n",
              "        const docLinkHtml = 'Like what you see? Visit the ' +\n",
              "          '<a target=\"_blank\" href=https://colab.research.google.com/notebooks/data_table.ipynb>data table notebook</a>'\n",
              "          + ' to learn more about interactive tables.';\n",
              "        element.innerHTML = '';\n",
              "        dataTable['output_type'] = 'display_data';\n",
              "        await google.colab.output.renderOutput(dataTable, element);\n",
              "        const docLink = document.createElement('div');\n",
              "        docLink.innerHTML = docLinkHtml;\n",
              "        element.appendChild(docLink);\n",
              "      }\n",
              "    </script>\n",
              "  </div>\n",
              "\n",
              "\n",
              "<div id=\"df-1c044409-e48b-44d5-818f-f999b8c91299\">\n",
              "  <button class=\"colab-df-quickchart\" onclick=\"quickchart('df-1c044409-e48b-44d5-818f-f999b8c91299')\"\n",
              "            title=\"Suggest charts\"\n",
              "            style=\"display:none;\">\n",
              "\n",
              "<svg xmlns=\"http://www.w3.org/2000/svg\" height=\"24px\"viewBox=\"0 0 24 24\"\n",
              "     width=\"24px\">\n",
              "    <g>\n",
              "        <path d=\"M19 3H5c-1.1 0-2 .9-2 2v14c0 1.1.9 2 2 2h14c1.1 0 2-.9 2-2V5c0-1.1-.9-2-2-2zM9 17H7v-7h2v7zm4 0h-2V7h2v10zm4 0h-2v-4h2v4z\"/>\n",
              "    </g>\n",
              "</svg>\n",
              "  </button>\n",
              "\n",
              "<style>\n",
              "  .colab-df-quickchart {\n",
              "      --bg-color: #E8F0FE;\n",
              "      --fill-color: #1967D2;\n",
              "      --hover-bg-color: #E2EBFA;\n",
              "      --hover-fill-color: #174EA6;\n",
              "      --disabled-fill-color: #AAA;\n",
              "      --disabled-bg-color: #DDD;\n",
              "  }\n",
              "\n",
              "  [theme=dark] .colab-df-quickchart {\n",
              "      --bg-color: #3B4455;\n",
              "      --fill-color: #D2E3FC;\n",
              "      --hover-bg-color: #434B5C;\n",
              "      --hover-fill-color: #FFFFFF;\n",
              "      --disabled-bg-color: #3B4455;\n",
              "      --disabled-fill-color: #666;\n",
              "  }\n",
              "\n",
              "  .colab-df-quickchart {\n",
              "    background-color: var(--bg-color);\n",
              "    border: none;\n",
              "    border-radius: 50%;\n",
              "    cursor: pointer;\n",
              "    display: none;\n",
              "    fill: var(--fill-color);\n",
              "    height: 32px;\n",
              "    padding: 0;\n",
              "    width: 32px;\n",
              "  }\n",
              "\n",
              "  .colab-df-quickchart:hover {\n",
              "    background-color: var(--hover-bg-color);\n",
              "    box-shadow: 0 1px 2px rgba(60, 64, 67, 0.3), 0 1px 3px 1px rgba(60, 64, 67, 0.15);\n",
              "    fill: var(--button-hover-fill-color);\n",
              "  }\n",
              "\n",
              "  .colab-df-quickchart-complete:disabled,\n",
              "  .colab-df-quickchart-complete:disabled:hover {\n",
              "    background-color: var(--disabled-bg-color);\n",
              "    fill: var(--disabled-fill-color);\n",
              "    box-shadow: none;\n",
              "  }\n",
              "\n",
              "  .colab-df-spinner {\n",
              "    border: 2px solid var(--fill-color);\n",
              "    border-color: transparent;\n",
              "    border-bottom-color: var(--fill-color);\n",
              "    animation:\n",
              "      spin 1s steps(1) infinite;\n",
              "  }\n",
              "\n",
              "  @keyframes spin {\n",
              "    0% {\n",
              "      border-color: transparent;\n",
              "      border-bottom-color: var(--fill-color);\n",
              "      border-left-color: var(--fill-color);\n",
              "    }\n",
              "    20% {\n",
              "      border-color: transparent;\n",
              "      border-left-color: var(--fill-color);\n",
              "      border-top-color: var(--fill-color);\n",
              "    }\n",
              "    30% {\n",
              "      border-color: transparent;\n",
              "      border-left-color: var(--fill-color);\n",
              "      border-top-color: var(--fill-color);\n",
              "      border-right-color: var(--fill-color);\n",
              "    }\n",
              "    40% {\n",
              "      border-color: transparent;\n",
              "      border-right-color: var(--fill-color);\n",
              "      border-top-color: var(--fill-color);\n",
              "    }\n",
              "    60% {\n",
              "      border-color: transparent;\n",
              "      border-right-color: var(--fill-color);\n",
              "    }\n",
              "    80% {\n",
              "      border-color: transparent;\n",
              "      border-right-color: var(--fill-color);\n",
              "      border-bottom-color: var(--fill-color);\n",
              "    }\n",
              "    90% {\n",
              "      border-color: transparent;\n",
              "      border-bottom-color: var(--fill-color);\n",
              "    }\n",
              "  }\n",
              "</style>\n",
              "\n",
              "  <script>\n",
              "    async function quickchart(key) {\n",
              "      const quickchartButtonEl =\n",
              "        document.querySelector('#' + key + ' button');\n",
              "      quickchartButtonEl.disabled = true;  // To prevent multiple clicks.\n",
              "      quickchartButtonEl.classList.add('colab-df-spinner');\n",
              "      try {\n",
              "        const charts = await google.colab.kernel.invokeFunction(\n",
              "            'suggestCharts', [key], {});\n",
              "      } catch (error) {\n",
              "        console.error('Error during call to suggestCharts:', error);\n",
              "      }\n",
              "      quickchartButtonEl.classList.remove('colab-df-spinner');\n",
              "      quickchartButtonEl.classList.add('colab-df-quickchart-complete');\n",
              "    }\n",
              "    (() => {\n",
              "      let quickchartButtonEl =\n",
              "        document.querySelector('#df-1c044409-e48b-44d5-818f-f999b8c91299 button');\n",
              "      quickchartButtonEl.style.display =\n",
              "        google.colab.kernel.accessAllowed ? 'block' : 'none';\n",
              "    })();\n",
              "  </script>\n",
              "</div>\n",
              "    </div>\n",
              "  </div>\n"
            ],
            "application/vnd.google.colaboratory.intrinsic+json": {
              "type": "dataframe",
              "variable_name": "df"
            }
          },
          "metadata": {},
          "execution_count": 87
        }
      ]
    },
    {
      "cell_type": "code",
      "source": [
        "df.info()"
      ],
      "metadata": {
        "id": "M1XP0mip5fvd",
        "colab": {
          "base_uri": "https://localhost:8080/"
        },
        "outputId": "b00b4ae1-0626-4ed5-d56a-c5de6c1f043d"
      },
      "execution_count": null,
      "outputs": [
        {
          "output_type": "stream",
          "name": "stdout",
          "text": [
            "<class 'pandas.core.frame.DataFrame'>\n",
            "RangeIndex: 101613 entries, 0 to 101612\n",
            "Data columns (total 12 columns):\n",
            " #   Column          Non-Null Count   Dtype  \n",
            "---  ------          --------------   -----  \n",
            " 0   step            101613 non-null  int64  \n",
            " 1   amount          101613 non-null  float64\n",
            " 2   oldbalanceOrg   101613 non-null  float64\n",
            " 3   newbalanceOrig  101613 non-null  float64\n",
            " 4   oldbalanceDest  101613 non-null  float64\n",
            " 5   newbalanceDest  101613 non-null  float64\n",
            " 6   isFraud         101613 non-null  int64  \n",
            " 7   type_CASH_IN    101613 non-null  uint8  \n",
            " 8   type_CASH_OUT   101613 non-null  uint8  \n",
            " 9   type_DEBIT      101613 non-null  uint8  \n",
            " 10  type_PAYMENT    101613 non-null  uint8  \n",
            " 11  type_TRANSFER   101613 non-null  uint8  \n",
            "dtypes: float64(5), int64(2), uint8(5)\n",
            "memory usage: 5.9 MB\n"
          ]
        }
      ]
    },
    {
      "cell_type": "markdown",
      "source": [
        "## Pemodelan dan Evaluasi"
      ],
      "metadata": {
        "id": "GmDwtwWFhaIq"
      }
    },
    {
      "cell_type": "markdown",
      "source": [
        "## Decision Tree"
      ],
      "metadata": {
        "id": "7Pf35NCQSfod"
      }
    },
    {
      "cell_type": "code",
      "source": [
        "# Split data training dan testing\n",
        "\n",
        "from sklearn.model_selection import train_test_split\n",
        "\n",
        "X, y = df.drop('isFraud', axis=1), df['isFraud']\n",
        "\n",
        "# Pembagian data menjadi set pelatihan dan set pengujian\n",
        "X_train, X_test, y_train, y_test = train_test_split(X, y, test_size=0.2, random_state=42)"
      ],
      "metadata": {
        "id": "49NkfqDt2LpH"
      },
      "execution_count": null,
      "outputs": []
    },
    {
      "cell_type": "code",
      "source": [
        "from sklearn.tree import DecisionTreeClassifier\n",
        "from sklearn.metrics import accuracy_score, confusion_matrix, classification_report"
      ],
      "metadata": {
        "id": "Eq3uUmA52Lhq"
      },
      "execution_count": null,
      "outputs": []
    },
    {
      "cell_type": "code",
      "source": [
        "from sklearn.metrics import roc_auc_score, roc_curve, auc\n",
        "import matplotlib.pyplot as plt\n",
        "\n",
        "# Membuat model Decision Tree\n",
        "tree_model = DecisionTreeClassifier(random_state=42)\n",
        "\n",
        "# Melatih model\n",
        "tree_model.fit(X_train, y_train)\n",
        "\n",
        "# Melakukan prediksi pada set pengujian\n",
        "y_pred = tree_model.predict(X_test)\n",
        "\n",
        "# Menghitung probabilitas kelas positif\n",
        "y_pred_proba = tree_model.predict_proba(X_test)[:, 1]\n",
        "\n",
        "# Evaluasi performa model\n",
        "accuracy = accuracy_score(y_test, y_pred)\n",
        "conf_matrix = confusion_matrix(y_test, y_pred)\n",
        "classification_rep = classification_report(y_test, y_pred)\n",
        "\n",
        "# Menghitung dan menampilkan ROC-AUC score\n",
        "roc_auc = roc_auc_score(y_test, y_pred_proba)\n",
        "print(f'ROC-AUC Score: {roc_auc:.4f}\\n')\n",
        "\n",
        "# Menampilkan hasil\n",
        "print(f'Accuracy: {accuracy:.4f}\\n')\n",
        "print('Confusion Matrix:')\n",
        "print(conf_matrix)\n",
        "print('\\nClassification Report:')\n",
        "print(classification_rep)"
      ],
      "metadata": {
        "id": "uCiucwP72Lab",
        "colab": {
          "base_uri": "https://localhost:8080/"
        },
        "outputId": "5619830d-dda4-4de7-f87a-13c1b5fb99d5"
      },
      "execution_count": null,
      "outputs": [
        {
          "output_type": "stream",
          "name": "stdout",
          "text": [
            "ROC-AUC Score: 0.7996\n",
            "\n",
            "Accuracy: 0.9989\n",
            "\n",
            "Confusion Matrix:\n",
            "[[20288    15]\n",
            " [    8    12]]\n",
            "\n",
            "Classification Report:\n",
            "              precision    recall  f1-score   support\n",
            "\n",
            "           0       1.00      1.00      1.00     20303\n",
            "           1       0.44      0.60      0.51        20\n",
            "\n",
            "    accuracy                           1.00     20323\n",
            "   macro avg       0.72      0.80      0.76     20323\n",
            "weighted avg       1.00      1.00      1.00     20323\n",
            "\n"
          ]
        }
      ]
    },
    {
      "cell_type": "markdown",
      "source": [
        "#### F1-score 100% untuk transaksi yg terindikasi tidak Fraud (kelas 0), model menunjukkan keseimbangan yg sempurna antara precision (ketepatan identifikasi yg tidak Fraud) dan recall (menemukan transaksi yg sebenarnya tidak Fraud)."
      ],
      "metadata": {
        "id": "OaN-XP_q3wUc"
      }
    },
    {
      "cell_type": "markdown",
      "source": [
        "#### F1-score untuk kelas positive (1) sebesar 51%, disini model dikatakan tidak terlalu buruk atau bisa dikatakan moderat dalam mendeteksi transaksi yg terindikasi Fraud, dan model dapat mengidentifikasi sejumlah transaksi fraud tanpa menghasilkan terlalu banyak False Positive atau False Negative."
      ],
      "metadata": {
        "id": "kj3V6DS9TpPQ"
      }
    },
    {
      "cell_type": "markdown",
      "source": [
        "## Random Forest"
      ],
      "metadata": {
        "id": "pRWWgy61jwBX"
      }
    },
    {
      "cell_type": "code",
      "source": [
        "# Split data training dan testing\n",
        "\n",
        "from sklearn.model_selection import train_test_split\n",
        "\n",
        "X, y = df.drop('isFraud', axis=1), df['isFraud']\n",
        "\n",
        "# Pembagian data menjadi set pelatihan dan set pengujian\n",
        "X_train, X_test, y_train, y_test = train_test_split(X, y, test_size=0.2, random_state=42)"
      ],
      "metadata": {
        "id": "8M99TNWx2LRz"
      },
      "execution_count": null,
      "outputs": []
    },
    {
      "cell_type": "code",
      "source": [
        "from sklearn.ensemble import RandomForestClassifier\n",
        "from sklearn.metrics import accuracy_score, confusion_matrix, classification_report"
      ],
      "metadata": {
        "id": "RAq__JJAjwo1"
      },
      "execution_count": null,
      "outputs": []
    },
    {
      "cell_type": "code",
      "source": [
        "# Membuat model Random Forest\n",
        "rf_model = RandomForestClassifier(random_state=42)\n",
        "\n",
        "# Melatih model\n",
        "rf_model.fit(X_train, y_train)\n",
        "\n",
        "# Melakukan prediksi pada set pengujian\n",
        "y_pred_rf = rf_model.predict(X_test)\n",
        "\n",
        "# Melakukan prediksi probabilitas kelas positif pada set pengujian\n",
        "y_pred_proba_rf = rf_model.predict_proba(X_test)[:, 1]\n",
        "\n",
        "# Evaluasi performa model\n",
        "accuracy_rf = accuracy_score(y_test, y_pred_rf)\n",
        "conf_matrix_rf = confusion_matrix(y_test, y_pred_rf)\n",
        "classification_rep_rf = classification_report(y_test, y_pred_rf)\n",
        "\n",
        "# Menghitung ROC-AUC score untuk Random Forest\n",
        "roc_auc_rf = roc_auc_score(y_test, y_pred_proba_rf)\n",
        "# Menampilkan ROC-AUC score untuk Random Forest\n",
        "print(f'Random Forest ROC-AUC Score: {roc_auc_rf:.4f}\\n')\n",
        "\n",
        "# Menampilkan hasil Random Forest\n",
        "print(f'Random Forest Accuracy: {accuracy_rf:.4f}\\n')\n",
        "print('Random Forest Confusion Matrix:')\n",
        "print(conf_matrix_rf)\n",
        "print('\\nRandom Forest Classification Report:')\n",
        "print(classification_rep_rf)"
      ],
      "metadata": {
        "colab": {
          "base_uri": "https://localhost:8080/"
        },
        "id": "1YSrgRo7jxJA",
        "outputId": "41273f34-6f8f-4f21-b81a-c920d9dc2923"
      },
      "execution_count": null,
      "outputs": [
        {
          "output_type": "stream",
          "name": "stdout",
          "text": [
            "Random Forest ROC-AUC Score: 0.9991\n",
            "\n",
            "Random Forest Accuracy: 0.9994\n",
            "\n",
            "Random Forest Confusion Matrix:\n",
            "[[20302     1]\n",
            " [   11     9]]\n",
            "\n",
            "Random Forest Classification Report:\n",
            "              precision    recall  f1-score   support\n",
            "\n",
            "           0       1.00      1.00      1.00     20303\n",
            "           1       0.90      0.45      0.60        20\n",
            "\n",
            "    accuracy                           1.00     20323\n",
            "   macro avg       0.95      0.72      0.80     20323\n",
            "weighted avg       1.00      1.00      1.00     20323\n",
            "\n"
          ]
        }
      ]
    },
    {
      "cell_type": "markdown",
      "source": [
        "#### F1-score 100% untuk transaksi yg terindikasi tidak Fraud (kelas 0), model menunjukkan keseimbangan yg sempurna antara precision (ketepatan identifikasi yg tidak Fraud) dan recall (menemukan transaksi yg sebenarnya tidak Fraud)."
      ],
      "metadata": {
        "id": "9OnzQmp94fJW"
      }
    },
    {
      "cell_type": "markdown",
      "source": [
        "#### F1-score 60% untuk transaksi yg terindikasi Fraud (kelas 1), menunjukkan bahwa model memiliki kemampuan yang baik untuk mengurangi false positive (transaksi yg diprediksi Fraud tetapi sebenarnya tidak) ditunjukkan dengan hasil Precision 90% dan false negative (transaksi yg sebenarnya terindikasi Fraud tetapi tidak terdeksi) ditunjukkan dengan hasil Recall yang agak buruk 45% secara seimbang."
      ],
      "metadata": {
        "id": "I6ZZNMifX4ax"
      }
    },
    {
      "cell_type": "markdown",
      "source": [
        "## XGBoost (Extreme Gradient Boosting)"
      ],
      "metadata": {
        "id": "S3szeb4skaNo"
      }
    },
    {
      "cell_type": "code",
      "source": [
        "# Split data training dan testing\n",
        "\n",
        "from sklearn.model_selection import train_test_split\n",
        "\n",
        "X, y = df.drop('isFraud', axis=1), df['isFraud']\n",
        "\n",
        "# Pembagian data menjadi set pelatihan dan set pengujian\n",
        "X_train, X_test, y_train, y_test = train_test_split(X, y, test_size=0.2, random_state=42)"
      ],
      "metadata": {
        "id": "oMEMQEl1ka2C"
      },
      "execution_count": null,
      "outputs": []
    },
    {
      "cell_type": "code",
      "source": [
        "from xgboost import XGBClassifier\n",
        "from sklearn.metrics import accuracy_score, confusion_matrix, classification_report\n",
        "from xgboost import XGBClassifier\n",
        "from sklearn.metrics import roc_auc_score\n",
        "\n",
        "# Membuat model XGBoost\n",
        "xgb_model = XGBClassifier(random_state=42)\n",
        "\n",
        "# Melatih model\n",
        "xgb_model.fit(X_train, y_train)\n",
        "\n",
        "# Melakukan prediksi pada set pengujian\n",
        "y_pred_xgb = xgb_model.predict(X_test)\n",
        "\n",
        "# Melakukan prediksi probabilitas kelas positif pada set pengujian\n",
        "y_pred_proba_xgb = xgb_model.predict_proba(X_test)[:, 1]\n",
        "\n",
        "# Evaluasi performa model\n",
        "accuracy_xgb = accuracy_score(y_test, y_pred_xgb)\n",
        "conf_matrix_xgb = confusion_matrix(y_test, y_pred_xgb)\n",
        "classification_rep_xgb = classification_report(y_test, y_pred_xgb)\n",
        "\n",
        "# Menghitung ROC-AUC score untuk XGBoost\n",
        "roc_auc_xgb = roc_auc_score(y_test, y_pred_proba_xgb)\n",
        "\n",
        "# Menampilkan ROC-AUC score untuk XGBoost\n",
        "print(f'XGBoost ROC-AUC Score: {roc_auc_xgb:.4f}\\n')\n",
        "\n",
        "# Menampilkan hasil XGBoost\n",
        "print(f'XGBoost Accuracy: {accuracy_xgb:.4f}\\n')\n",
        "print('XGBoost Confusion Matrix:')\n",
        "print(conf_matrix_xgb)\n",
        "print('\\nXGBoost Classification Report:')\n",
        "print(classification_rep_xgb)"
      ],
      "metadata": {
        "colab": {
          "base_uri": "https://localhost:8080/"
        },
        "id": "uZWrgj66kbNZ",
        "outputId": "c19138f7-8a99-4b0e-a5c0-bf476d1ad428"
      },
      "execution_count": null,
      "outputs": [
        {
          "output_type": "stream",
          "name": "stdout",
          "text": [
            "XGBoost ROC-AUC Score: 0.9997\n",
            "\n",
            "XGBoost Accuracy: 0.9997\n",
            "\n",
            "XGBoost Confusion Matrix:\n",
            "[[20302     1]\n",
            " [    5    15]]\n",
            "\n",
            "XGBoost Classification Report:\n",
            "              precision    recall  f1-score   support\n",
            "\n",
            "           0       1.00      1.00      1.00     20303\n",
            "           1       0.94      0.75      0.83        20\n",
            "\n",
            "    accuracy                           1.00     20323\n",
            "   macro avg       0.97      0.87      0.92     20323\n",
            "weighted avg       1.00      1.00      1.00     20323\n",
            "\n"
          ]
        }
      ]
    },
    {
      "cell_type": "markdown",
      "source": [
        "#### F1-score 100% untuk transaksi yg terindikasi tidak Fraud (kelas 0), model menunjukkan keseimbangan yg sempurna antara precision (ketepatan identifikasi yg tidak Fraud) dan recall (menemukan transaksi yg sebenarnya tidak Fraud)."
      ],
      "metadata": {
        "id": "eoy5dawW4oAx"
      }
    },
    {
      "cell_type": "markdown",
      "source": [
        "#### F1-score 83% untuk transaksi yg terindikasi Fraud (kelas 1), menunjukkan bahwa model memiliki kemampuan yang baik untuk mengurangi false positive (transaksi yg diprediksi Fraud tetapi sebenarnya tidak) ditunjukkan dengan hasil Precision 94% dan false negative (transaksi yg sebenarnya terindikasi Fraud tetapi tidak terdeksi) ditunjukkan dengan hasil Recall 75% secara seimbang."
      ],
      "metadata": {
        "id": "Pb1skgpTaAjZ"
      }
    },
    {
      "cell_type": "markdown",
      "source": [
        "## Hyperparameter Tuning pada Model Terbaik"
      ],
      "metadata": {
        "id": "-CIAArkoBe1P"
      }
    },
    {
      "cell_type": "code",
      "source": [
        "from sklearn.model_selection import cross_val_score, StratifiedKFold\n",
        "# Membuat model XGBoost\n",
        "model = XGBClassifier(random_state=42)\n",
        "\n",
        "# Menggunakan K-Fold Cross-Validation dengan 5 fold\n",
        "cv = StratifiedKFold(n_splits=5, shuffle=True, random_state=42)\n",
        "\n",
        "scores = cross_val_score(model, X_train, y_train, cv=cv, scoring='recall')  # Ganti 'recall' dengan metrik yang Anda pilih\n",
        "\n",
        "# Menampilkan hasil cross-validation\n",
        "print('Cross-Validation Scores:', scores)\n",
        "print('Mean Recall:', scores.mean())"
      ],
      "metadata": {
        "colab": {
          "base_uri": "https://localhost:8080/"
        },
        "id": "T8i5bjMZkcBD",
        "outputId": "71106302-3837-42f2-f50c-f5e01012ba95"
      },
      "execution_count": null,
      "outputs": [
        {
          "output_type": "stream",
          "name": "stdout",
          "text": [
            "Cross-Validation Scores: [0.68421053 0.84210526 0.57894737 0.26315789 0.55      ]\n",
            "Mean Recall: 0.5836842105263157\n"
          ]
        }
      ]
    },
    {
      "cell_type": "code",
      "source": [
        "from sklearn.model_selection import GridSearchCV\n",
        "from xgboost import XGBClassifier\n",
        "\n",
        "# Definisikan ruang parameter\n",
        "param_grid = {'n_estimators': [50, 100, 200], 'max_depth': [3, 5, 7], 'learning_rate': [0.01, 0.1, 0.2]}\n",
        "\n",
        "# Inisialisasi model\n",
        "model = XGBClassifier(random_state=42)\n",
        "\n",
        "# Inisialisasi GridSearchCV\n",
        "grid_search = GridSearchCV(model, param_grid, cv=cv, scoring='recall', n_jobs=-1)\n",
        "grid_result = grid_search.fit(X_train, y_train)\n",
        "\n",
        "# Tampilkan Hasil Penyetelan Parameter\n",
        "print('Best Parameters:', grid_result.best_params_)\n",
        "\n",
        "# Evaluasi Model Terbaik\n",
        "best_model = grid_result.best_estimator_\n",
        "best_model.fit(X_train, y_train)\n",
        "y_pred_best = best_model.predict(X_test)\n",
        "\n",
        "# Tampilkan Evaluasi Model Terbaik\n",
        "print('Best Model Accuracy:', accuracy_score(y_test, y_pred_best))\n",
        "print('Best Model Confusion Matrix:')\n",
        "print(confusion_matrix(y_test, y_pred_best))\n",
        "print('Best Model Classification Report:')\n",
        "print(classification_report(y_test, y_pred_best))"
      ],
      "metadata": {
        "colab": {
          "base_uri": "https://localhost:8080/"
        },
        "id": "zZGDvLBCltln",
        "outputId": "ebbdf5ad-1b6c-45f0-fc6d-db9daff467e7"
      },
      "execution_count": null,
      "outputs": [
        {
          "output_type": "stream",
          "name": "stdout",
          "text": [
            "Best Parameters: {'learning_rate': 0.2, 'max_depth': 3, 'n_estimators': 200}\n",
            "Best Model Accuracy: 0.999753973330709\n",
            "Best Model Confusion Matrix:\n",
            "[[20302     1]\n",
            " [    4    16]]\n",
            "Best Model Classification Report:\n",
            "              precision    recall  f1-score   support\n",
            "\n",
            "           0       1.00      1.00      1.00     20303\n",
            "           1       0.94      0.80      0.86        20\n",
            "\n",
            "    accuracy                           1.00     20323\n",
            "   macro avg       0.97      0.90      0.93     20323\n",
            "weighted avg       1.00      1.00      1.00     20323\n",
            "\n"
          ]
        }
      ]
    },
    {
      "cell_type": "markdown",
      "source": [
        "#### Hasil F1-score meningkat menjadi 86% untuk transaksi yg terindikasi Fraud (kelas 1), menunjukkan bahwa model memiliki kemampuan yang baik untuk mengurangi false positive (transaksi yg diprediksi Fraud tetapi sebenarnya tidak) ditunjukkan dengan hasil Precision 94% dan false negative (transaksi yg sebenarnya terindikasi Fraud tetapi tidak terdeksi) ditunjukkan dengan hasil Recall 80% secara seimbang."
      ],
      "metadata": {
        "id": "z5DKFsoUTq6W"
      }
    },
    {
      "cell_type": "code",
      "source": [
        "from sklearn.metrics import roc_auc_score\n",
        "\n",
        "# Menggunakan model terbaik yang telah di-setel parameter\n",
        "y_pred_proba_best = best_model.predict_proba(X_test)[:, 1]\n",
        "\n",
        "# Menghitung nilai ROC-AUC\n",
        "roc_auc = roc_auc_score(y_test, y_pred_proba_best)\n",
        "\n",
        "print('ROC-AUC Score:', roc_auc)"
      ],
      "metadata": {
        "colab": {
          "base_uri": "https://localhost:8080/"
        },
        "id": "RzOO6rnvnm0_",
        "outputId": "a899e9e6-3b92-4ef5-9dd6-c6cfb7a798e0"
      },
      "execution_count": null,
      "outputs": [
        {
          "output_type": "stream",
          "name": "stdout",
          "text": [
            "ROC-AUC Score: 0.999793134019603\n"
          ]
        }
      ]
    },
    {
      "cell_type": "code",
      "source": [
        "from sklearn.metrics import roc_curve, auc\n",
        "import matplotlib.pyplot as plt\n",
        "\n",
        "# Menghitung nilai False Positive Rate (FPR), True Positive Rate (TPR), dan Thresholds\n",
        "fpr, tpr, thresholds = roc_curve(y_test, y_pred_proba_best)\n",
        "\n",
        "# Menghitung Area Under the Curve (AUC) untuk ROC\n",
        "roc_auc = auc(fpr, tpr)\n",
        "\n",
        "# Plot kurva ROC\n",
        "plt.figure(figsize=(8, 6))\n",
        "plt.plot(fpr, tpr, color='darkorange', lw=2, label='ROC curve (area = {:.2f})'.format(roc_auc))\n",
        "plt.plot([0, 1], [0, 1], color='navy', lw=2, linestyle='--', label='Random')\n",
        "plt.xlabel('False Positive Rate (FPR)')\n",
        "plt.ylabel('True Positive Rate (TPR)')\n",
        "plt.title('Receiver Operating Characteristic (ROC) Curve')\n",
        "plt.legend(loc='lower right')\n",
        "plt.text(0.7, 0.2, 'AUC = {:.2f}'.format(roc_auc), fontsize=12, bbox=dict(facecolor='white', alpha=0.5))\n",
        "plt.show()"
      ],
      "metadata": {
        "colab": {
          "base_uri": "https://localhost:8080/",
          "height": 564
        },
        "id": "5_V44Gdmm0UJ",
        "outputId": "001daffb-44de-4835-e4e9-b9455764fd69"
      },
      "execution_count": null,
      "outputs": [
        {
          "output_type": "display_data",
          "data": {
            "text/plain": [
              "<Figure size 800x600 with 1 Axes>"
            ],
            "image/png": "[encoded data removed]"
          },
          "metadata": {}
        }
      ]
    },
    {
      "cell_type": "code",
      "source": [
        "# Membuat objek model XGBoost\n",
        "import xgboost as xgb\n",
        "model = xgb.XGBClassifier()\n",
        "\n",
        "# Melatih model pada data\n",
        "model.fit(X_train, y_train)\n",
        "\n",
        "# Mendapatkan feature importances\n",
        "feature_importances = model.feature_importances_\n",
        "\n",
        "# Membuat DataFrame untuk memudahkan visualisasi\n",
        "feature_importance_df = pd.DataFrame({'Feature': X_train.columns, 'Importance': feature_importances})\n",
        "\n",
        "# Mengurutkan fitur berdasarkan tingkat penting\n",
        "feature_importance_df = feature_importance_df.sort_values(by='Importance', ascending=False)\n",
        "\n",
        "# Menampilkan plot bar untuk visualisasi feature importance\n",
        "plt.figure(figsize=(12, 8))\n",
        "plt.barh(feature_importance_df['Feature'], feature_importance_df['Importance'])\n",
        "plt.xlabel('Feature Importance')\n",
        "plt.title('Feature Importance')\n",
        "plt.show()"
      ],
      "metadata": {
        "colab": {
          "base_uri": "https://localhost:8080/",
          "height": 718
        },
        "id": "t6eRJGyAuTJ-",
        "outputId": "58a6a374-ad70-4726-fe6b-97d75ac876d9"
      },
      "execution_count": null,
      "outputs": [
        {
          "output_type": "display_data",
          "data": {
            "text/plain": [
              "<Figure size 1200x800 with 1 Axes>"
            ],
            "image/png": "[encoded data removed]"
          },
          "metadata": {}
        }
      ]
    },
    {
      "cell_type": "markdown",
      "source": [
        "#### Feature yang paling berpengaruh yaitu type transaksi Payment"
      ],
      "metadata": {
        "id": "a5Hlz453TGql"
      }
    },
    {
      "cell_type": "markdown",
      "source": [],
      "metadata": {
        "id": "2QiZrsreTHxy"
      }
    }
  ]
}